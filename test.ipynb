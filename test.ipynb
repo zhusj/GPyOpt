{
 "cells": [
  {
   "cell_type": "code",
   "execution_count": 77,
   "metadata": {
    "collapsed": false
   },
   "outputs": [
    {
     "data": {
      "text/plain": [
       "(15, 5)"
      ]
     },
     "execution_count": 77,
     "metadata": {},
     "output_type": "execute_result"
    }
   ],
   "source": [
    "inv_A.shape"
   ]
  },
  {
   "cell_type": "code",
   "execution_count": 116,
   "metadata": {
    "collapsed": false
   },
   "outputs": [
    {
     "name": "stdout",
     "output_type": "stream",
     "text": [
      "Optimization failed. Unable to find a feasible starting point.\n"
     ]
    }
   ],
   "source": [
    "from scipy.optimize import linprog\n",
    "\n",
    "\n",
    "low_percentage = 0.85\n",
    "high_percentage = 1.05\n",
    "\n",
    "A = np.random.rand(5,15)\n",
    "inv_A = np.linalg.pinv(A)\n",
    "\n",
    "c = np.zeros((5,))\n",
    "\n",
    "A_c = np.concatenate((-inv_A,inv_A))\n",
    "b1 = -np.ones((15,))*low_percentage\n",
    "b2 = np.ones((15,))*high_percentage\n",
    "b = np.concatenate((b1,b2))\n",
    "\n",
    "res = linprog(c, A_ub=A_c, b_ub=b, bounds=((None,None),(None,None),(None,None),(None,None),(None,None)),\n",
    "              options={\"disp\": True})\n",
    "\n",
    "while (res.status != 0):\n",
    "    A = np.random.rand(5,15)\n",
    "    inv_A = np.linalg.pinv(A)\n",
    "\n",
    "    A_c = np.concatenate((-inv_A,inv_A))\n",
    "    res = linprog(c, A_ub=A_c, b_ub=b, bounds=((None,None),(None,None),(None,None),(None,None),(None,None)),\n",
    "              options={\"disp\": False})"
   ]
  },
  {
   "cell_type": "code",
   "execution_count": 122,
   "metadata": {
    "collapsed": false
   },
   "outputs": [
    {
     "name": "stdout",
     "output_type": "stream",
     "text": [
      "Optimization failed. Unable to find a feasible starting point.\n"
     ]
    },
    {
     "ename": "KeyboardInterrupt",
     "evalue": "",
     "output_type": "error",
     "traceback": [
      "\u001b[0;31m---------------------------------------------------------------------------\u001b[0m",
      "\u001b[0;31mKeyboardInterrupt\u001b[0m                         Traceback (most recent call last)",
      "\u001b[0;32m<ipython-input-122-15596bdb8323>\u001b[0m in \u001b[0;36m<module>\u001b[0;34m()\u001b[0m\n\u001b[1;32m     24\u001b[0m     \u001b[0mA_c\u001b[0m \u001b[0;34m=\u001b[0m \u001b[0mnp\u001b[0m\u001b[0;34m.\u001b[0m\u001b[0mconcatenate\u001b[0m\u001b[0;34m(\u001b[0m\u001b[0;34m(\u001b[0m\u001b[0;34m-\u001b[0m\u001b[0minv_A\u001b[0m\u001b[0;34m,\u001b[0m\u001b[0minv_A\u001b[0m\u001b[0;34m)\u001b[0m\u001b[0;34m)\u001b[0m\u001b[0;34m\u001b[0m\u001b[0m\n\u001b[1;32m     25\u001b[0m     res = linprog(c, A_ub=A_c, b_ub=b, bounds=((None,None),(None,None),(None,None),(None,None),(None,None)),\n\u001b[0;32m---> 26\u001b[0;31m               options={\"disp\": False})\n\u001b[0m",
      "\u001b[0;32m/usr/local/lib/python2.7/dist-packages/scipy/optimize/_linprog.pyc\u001b[0m in \u001b[0;36mlinprog\u001b[0;34m(c, A_ub, b_ub, A_eq, b_eq, bounds, method, callback, options)\u001b[0m\n\u001b[1;32m    991\u001b[0m     \u001b[0;32mif\u001b[0m \u001b[0mmeth\u001b[0m \u001b[0;34m==\u001b[0m \u001b[0;34m'simplex'\u001b[0m\u001b[0;34m:\u001b[0m\u001b[0;34m\u001b[0m\u001b[0m\n\u001b[1;32m    992\u001b[0m         return _linprog_simplex(c, A_ub=A_ub, b_ub=b_ub, A_eq=A_eq, b_eq=b_eq,\n\u001b[0;32m--> 993\u001b[0;31m                                 bounds=bounds, callback=callback, **options)\n\u001b[0m\u001b[1;32m    994\u001b[0m     \u001b[0;32melse\u001b[0m\u001b[0;34m:\u001b[0m\u001b[0;34m\u001b[0m\u001b[0m\n\u001b[1;32m    995\u001b[0m         \u001b[0;32mraise\u001b[0m \u001b[0mValueError\u001b[0m\u001b[0;34m(\u001b[0m\u001b[0;34m'Unknown solver %s'\u001b[0m \u001b[0;34m%\u001b[0m \u001b[0mmethod\u001b[0m\u001b[0;34m)\u001b[0m\u001b[0;34m\u001b[0m\u001b[0m\n",
      "\u001b[0;32m/usr/local/lib/python2.7/dist-packages/scipy/optimize/_linprog.pyc\u001b[0m in \u001b[0;36m_linprog_simplex\u001b[0;34m(c, A_ub, b_ub, A_eq, b_eq, bounds, maxiter, disp, callback, tol, bland, **unknown_options)\u001b[0m\n\u001b[1;32m    762\u001b[0m \u001b[0;34m\u001b[0m\u001b[0m\n\u001b[1;32m    763\u001b[0m     nit1, status = _solve_simplex(T, n, basis, phase=1, callback=callback,\n\u001b[0;32m--> 764\u001b[0;31m                                   maxiter=maxiter, tol=tol, bland=bland)\n\u001b[0m\u001b[1;32m    765\u001b[0m \u001b[0;34m\u001b[0m\u001b[0m\n\u001b[1;32m    766\u001b[0m     \u001b[0;31m# if pseudo objective is zero, remove the last row from the tableau and\u001b[0m\u001b[0;34m\u001b[0m\u001b[0;34m\u001b[0m\u001b[0m\n",
      "\u001b[0;32m/usr/local/lib/python2.7/dist-packages/scipy/optimize/_linprog.pyc\u001b[0m in \u001b[0;36m_solve_simplex\u001b[0;34m(T, n, basis, maxiter, phase, callback, tol, nit0, bland)\u001b[0m\n\u001b[1;32m    355\u001b[0m         \u001b[0;32melse\u001b[0m\u001b[0;34m:\u001b[0m\u001b[0;34m\u001b[0m\u001b[0m\n\u001b[1;32m    356\u001b[0m             \u001b[0;31m# Find the pivot row\u001b[0m\u001b[0;34m\u001b[0m\u001b[0;34m\u001b[0m\u001b[0m\n\u001b[0;32m--> 357\u001b[0;31m             \u001b[0mpivrow_found\u001b[0m\u001b[0;34m,\u001b[0m \u001b[0mpivrow\u001b[0m \u001b[0;34m=\u001b[0m \u001b[0m_pivot_row\u001b[0m\u001b[0;34m(\u001b[0m\u001b[0mT\u001b[0m\u001b[0;34m,\u001b[0m \u001b[0mpivcol\u001b[0m\u001b[0;34m,\u001b[0m \u001b[0mphase\u001b[0m\u001b[0;34m,\u001b[0m \u001b[0mtol\u001b[0m\u001b[0;34m)\u001b[0m\u001b[0;34m\u001b[0m\u001b[0m\n\u001b[0m\u001b[1;32m    358\u001b[0m             \u001b[0;32mif\u001b[0m \u001b[0;32mnot\u001b[0m \u001b[0mpivrow_found\u001b[0m\u001b[0;34m:\u001b[0m\u001b[0;34m\u001b[0m\u001b[0m\n\u001b[1;32m    359\u001b[0m                 \u001b[0mstatus\u001b[0m \u001b[0;34m=\u001b[0m \u001b[0;36m3\u001b[0m\u001b[0;34m\u001b[0m\u001b[0m\n",
      "\u001b[0;32m/usr/local/lib/python2.7/dist-packages/scipy/optimize/_linprog.pyc\u001b[0m in \u001b[0;36m_pivot_row\u001b[0;34m(T, pivcol, phase, tol)\u001b[0m\n\u001b[1;32m    207\u001b[0m     \u001b[0mmb\u001b[0m \u001b[0;34m=\u001b[0m \u001b[0mnp\u001b[0m\u001b[0;34m.\u001b[0m\u001b[0mma\u001b[0m\u001b[0;34m.\u001b[0m\u001b[0mmasked_where\u001b[0m\u001b[0;34m(\u001b[0m\u001b[0mT\u001b[0m\u001b[0;34m[\u001b[0m\u001b[0;34m:\u001b[0m\u001b[0;34m-\u001b[0m\u001b[0mk\u001b[0m\u001b[0;34m,\u001b[0m \u001b[0mpivcol\u001b[0m\u001b[0;34m]\u001b[0m \u001b[0;34m<=\u001b[0m \u001b[0mtol\u001b[0m\u001b[0;34m,\u001b[0m \u001b[0mT\u001b[0m\u001b[0;34m[\u001b[0m\u001b[0;34m:\u001b[0m\u001b[0;34m-\u001b[0m\u001b[0mk\u001b[0m\u001b[0;34m,\u001b[0m \u001b[0;34m-\u001b[0m\u001b[0;36m1\u001b[0m\u001b[0;34m]\u001b[0m\u001b[0;34m,\u001b[0m \u001b[0mcopy\u001b[0m\u001b[0;34m=\u001b[0m\u001b[0mFalse\u001b[0m\u001b[0;34m)\u001b[0m\u001b[0;34m\u001b[0m\u001b[0m\n\u001b[1;32m    208\u001b[0m     \u001b[0mq\u001b[0m \u001b[0;34m=\u001b[0m \u001b[0mmb\u001b[0m \u001b[0;34m/\u001b[0m \u001b[0mma\u001b[0m\u001b[0;34m\u001b[0m\u001b[0m\n\u001b[0;32m--> 209\u001b[0;31m     \u001b[0;32mreturn\u001b[0m \u001b[0mTrue\u001b[0m\u001b[0;34m,\u001b[0m \u001b[0mnp\u001b[0m\u001b[0;34m.\u001b[0m\u001b[0mma\u001b[0m\u001b[0;34m.\u001b[0m\u001b[0mwhere\u001b[0m\u001b[0;34m(\u001b[0m\u001b[0mq\u001b[0m \u001b[0;34m==\u001b[0m \u001b[0mq\u001b[0m\u001b[0;34m.\u001b[0m\u001b[0mmin\u001b[0m\u001b[0;34m(\u001b[0m\u001b[0;34m)\u001b[0m\u001b[0;34m)\u001b[0m\u001b[0;34m[\u001b[0m\u001b[0;36m0\u001b[0m\u001b[0;34m]\u001b[0m\u001b[0;34m[\u001b[0m\u001b[0;36m0\u001b[0m\u001b[0;34m]\u001b[0m\u001b[0;34m\u001b[0m\u001b[0m\n\u001b[0m\u001b[1;32m    210\u001b[0m \u001b[0;34m\u001b[0m\u001b[0m\n\u001b[1;32m    211\u001b[0m \u001b[0;34m\u001b[0m\u001b[0m\n",
      "\u001b[0;32m/usr/local/lib/python2.7/dist-packages/numpy/ma/core.pyc\u001b[0m in \u001b[0;36mmin\u001b[0;34m(self, axis, out, fill_value, keepdims)\u001b[0m\n\u001b[1;32m   5494\u001b[0m         \u001b[0;31m# No explicit output\u001b[0m\u001b[0;34m\u001b[0m\u001b[0;34m\u001b[0m\u001b[0m\n\u001b[1;32m   5495\u001b[0m         \u001b[0;32mif\u001b[0m \u001b[0mout\u001b[0m \u001b[0;32mis\u001b[0m \u001b[0mNone\u001b[0m\u001b[0;34m:\u001b[0m\u001b[0;34m\u001b[0m\u001b[0m\n\u001b[0;32m-> 5496\u001b[0;31m             result = self.filled(fill_value).min(\n\u001b[0m\u001b[1;32m   5497\u001b[0m                 axis=axis, out=out, **kwargs).view(type(self))\n\u001b[1;32m   5498\u001b[0m             \u001b[0;32mif\u001b[0m \u001b[0mresult\u001b[0m\u001b[0;34m.\u001b[0m\u001b[0mndim\u001b[0m\u001b[0;34m:\u001b[0m\u001b[0;34m\u001b[0m\u001b[0m\n",
      "\u001b[0;32m/usr/local/lib/python2.7/dist-packages/numpy/ma/core.pyc\u001b[0m in \u001b[0;36mfilled\u001b[0;34m(self, fill_value)\u001b[0m\n\u001b[1;32m   3685\u001b[0m             \u001b[0mfill_value\u001b[0m \u001b[0;34m=\u001b[0m \u001b[0mself\u001b[0m\u001b[0;34m.\u001b[0m\u001b[0mfill_value\u001b[0m\u001b[0;34m\u001b[0m\u001b[0m\n\u001b[1;32m   3686\u001b[0m         \u001b[0;32melse\u001b[0m\u001b[0;34m:\u001b[0m\u001b[0;34m\u001b[0m\u001b[0m\n\u001b[0;32m-> 3687\u001b[0;31m             \u001b[0mfill_value\u001b[0m \u001b[0;34m=\u001b[0m \u001b[0m_check_fill_value\u001b[0m\u001b[0;34m(\u001b[0m\u001b[0mfill_value\u001b[0m\u001b[0;34m,\u001b[0m \u001b[0mself\u001b[0m\u001b[0;34m.\u001b[0m\u001b[0mdtype\u001b[0m\u001b[0;34m)\u001b[0m\u001b[0;34m\u001b[0m\u001b[0m\n\u001b[0m\u001b[1;32m   3688\u001b[0m \u001b[0;34m\u001b[0m\u001b[0m\n\u001b[1;32m   3689\u001b[0m         \u001b[0;32mif\u001b[0m \u001b[0mself\u001b[0m \u001b[0;32mis\u001b[0m \u001b[0mmasked_singleton\u001b[0m\u001b[0;34m:\u001b[0m\u001b[0;34m\u001b[0m\u001b[0m\n",
      "\u001b[0;32m/usr/local/lib/python2.7/dist-packages/numpy/ma/core.pyc\u001b[0m in \u001b[0;36m_check_fill_value\u001b[0;34m(fill_value, ndtype)\u001b[0m\n\u001b[1;32m    484\u001b[0m                 \u001b[0merr_msg\u001b[0m \u001b[0;34m=\u001b[0m \u001b[0;34m\"Fill value %s overflows dtype %s\"\u001b[0m\u001b[0;34m\u001b[0m\u001b[0m\n\u001b[1;32m    485\u001b[0m                 \u001b[0;32mraise\u001b[0m \u001b[0mTypeError\u001b[0m\u001b[0;34m(\u001b[0m\u001b[0merr_msg\u001b[0m \u001b[0;34m%\u001b[0m \u001b[0;34m(\u001b[0m\u001b[0mfill_value\u001b[0m\u001b[0;34m,\u001b[0m \u001b[0mndtype\u001b[0m\u001b[0;34m)\u001b[0m\u001b[0;34m)\u001b[0m\u001b[0;34m\u001b[0m\u001b[0m\n\u001b[0;32m--> 486\u001b[0;31m     \u001b[0;32mreturn\u001b[0m \u001b[0mnp\u001b[0m\u001b[0;34m.\u001b[0m\u001b[0marray\u001b[0m\u001b[0;34m(\u001b[0m\u001b[0mfill_value\u001b[0m\u001b[0;34m)\u001b[0m\u001b[0;34m\u001b[0m\u001b[0m\n\u001b[0m\u001b[1;32m    487\u001b[0m \u001b[0;34m\u001b[0m\u001b[0m\n\u001b[1;32m    488\u001b[0m \u001b[0;34m\u001b[0m\u001b[0m\n",
      "\u001b[0;31mKeyboardInterrupt\u001b[0m: "
     ]
    }
   ],
   "source": [
    "from scipy.optimize import linprog\n",
    "\n",
    "\n",
    "low_percentage = 0.85\n",
    "high_percentage = 1.05\n",
    "\n",
    "A = np.random.rand(5,15)\n",
    "inv_A = np.linalg.pinv(A)\n",
    "\n",
    "c = np.zeros((5,))\n",
    "\n",
    "A_c = np.concatenate((-inv_A,inv_A))\n",
    "b1 = -np.array(default_config)*low_percentage\n",
    "b2 = np.array(default_config)*high_percentage\n",
    "b = np.concatenate((b1,b2))\n",
    "\n",
    "res = linprog(c, A_ub=A_c, b_ub=b, bounds=((None,None),(None,None),(None,None),(None,None),(None,None)),\n",
    "              options={\"disp\": True})\n",
    "\n",
    "while (res.status != 0):\n",
    "    A = np.random.rand(5,15)\n",
    "    inv_A = np.linalg.pinv(A)\n",
    "\n",
    "    A_c = np.concatenate((-inv_A,inv_A))\n",
    "    res = linprog(c, A_ub=A_c, b_ub=b, bounds=((None,None),(None,None),(None,None),(None,None),(None,None)),\n",
    "              options={\"disp\": False})"
   ]
  },
  {
   "cell_type": "code",
   "execution_count": 121,
   "metadata": {
    "collapsed": false
   },
   "outputs": [
    {
     "data": {
      "text/plain": [
       "(30, 5)"
      ]
     },
     "execution_count": 121,
     "metadata": {},
     "output_type": "execute_result"
    }
   ],
   "source": [
    "A_c.shape"
   ]
  },
  {
   "cell_type": "code",
   "execution_count": 120,
   "metadata": {
    "collapsed": false
   },
   "outputs": [
    {
     "data": {
      "text/plain": [
       "(30,)"
      ]
     },
     "execution_count": 120,
     "metadata": {},
     "output_type": "execute_result"
    }
   ],
   "source": [
    "b.shape"
   ]
  },
  {
   "cell_type": "code",
   "execution_count": 38,
   "metadata": {
    "collapsed": false
   },
   "outputs": [
    {
     "data": {
      "text/plain": [
       "Generator_System {ray(-1, 1, 0), ray(-1, 0, 1), point(1/1, 0/1, 0/1)}"
      ]
     },
     "execution_count": 38,
     "metadata": {},
     "output_type": "execute_result"
    }
   ],
   "source": [
    "import ppl\n",
    "x = ppl.Variable(0)\n",
    "y = ppl.Variable(1)\n",
    "z = ppl.Variable(2)\n",
    "cs = ppl.Constraint_System()\n",
    "cs.insert(A_c[0][0]*x >= b[0])\n",
    "cs.insert(y >= 0)\n",
    "cs.insert(z >= 0)\n",
    "cs.insert(x + y + z == 1)\n",
    "poly = ppl.C_Polyhedron(cs)\n",
    "poly.minimized_generators()"
   ]
  },
  {
   "cell_type": "code",
   "execution_count": 39,
   "metadata": {
    "collapsed": false
   },
   "outputs": [
    {
     "data": {
      "text/plain": [
       "Constraint_System {x1>=0, x2>=0, x0+x1+x2-1==0}"
      ]
     },
     "execution_count": 39,
     "metadata": {},
     "output_type": "execute_result"
    }
   ],
   "source": [
    "cs"
   ]
  },
  {
   "cell_type": "code",
   "execution_count": 40,
   "metadata": {
    "collapsed": false
   },
   "outputs": [
    {
     "data": {
      "text/plain": [
       "(30, 5)"
      ]
     },
     "execution_count": 40,
     "metadata": {},
     "output_type": "execute_result"
    }
   ],
   "source": [
    "A_c.shape"
   ]
  },
  {
   "cell_type": "code",
   "execution_count": 47,
   "metadata": {
    "collapsed": false
   },
   "outputs": [
    {
     "data": {
      "text/plain": [
       "-0.36736914152172345"
      ]
     },
     "execution_count": 47,
     "metadata": {},
     "output_type": "execute_result"
    }
   ],
   "source": [
    "A_c[i][4]"
   ]
  },
  {
   "cell_type": "code",
   "execution_count": 48,
   "metadata": {
    "collapsed": false
   },
   "outputs": [
    {
     "data": {
      "text/plain": [
       "-0.84999999999999998"
      ]
     },
     "execution_count": 48,
     "metadata": {},
     "output_type": "execute_result"
    }
   ],
   "source": [
    "b[0]"
   ]
  },
  {
   "cell_type": "code",
   "execution_count": 42,
   "metadata": {
    "collapsed": false
   },
   "outputs": [
    {
     "name": "stdout",
     "output_type": "stream",
     "text": [
      "Constraint_System {}\n",
      "Constraint_System {}\n",
      "Constraint_System {}\n",
      "Constraint_System {}\n",
      "Constraint_System {}\n",
      "Constraint_System {}\n",
      "Constraint_System {}\n",
      "Constraint_System {}\n",
      "Constraint_System {}\n",
      "Constraint_System {}\n",
      "Constraint_System {}\n",
      "Constraint_System {}\n",
      "Constraint_System {}\n",
      "Constraint_System {}\n",
      "Constraint_System {}\n",
      "Constraint_System {}\n",
      "Constraint_System {}\n",
      "Constraint_System {}\n",
      "Constraint_System {}\n",
      "Constraint_System {}\n",
      "Constraint_System {}\n",
      "Constraint_System {}\n",
      "Constraint_System {}\n",
      "Constraint_System {}\n",
      "Constraint_System {}\n",
      "Constraint_System {}\n",
      "Constraint_System {}\n",
      "Constraint_System {}\n",
      "Constraint_System {}\n",
      "Constraint_System {}\n"
     ]
    },
    {
     "data": {
      "text/plain": [
       "Generator_System {line(0, 0, 0, 0, 1), line(1, 0, 0, 0, 0), line(0, 1, 0, 0, 0), line(0, 0, 1, 0, 0), line(0, 0, 0, 1, 0), point(0/1, 0/1, 0/1, 0/1, 0/1)}"
      ]
     },
     "execution_count": 42,
     "metadata": {},
     "output_type": "execute_result"
    }
   ],
   "source": [
    "x = [0]*5\n",
    "\n",
    "x1 = ppl.Variable(0)\n",
    "x2 = ppl.Variable(1)\n",
    "x3 = ppl.Variable(2)\n",
    "x4 = ppl.Variable(3)\n",
    "x5 = ppl.Variable(4)\n",
    "\n",
    "    \n",
    "cs = ppl.Constraint_System()\n",
    "\n",
    "for i in xrange(0,30):\n",
    "    cs.insert(A_c[i][0]*x1 + A_c[i][1]*x2+ A_c[i][2]*x3+ A_c[i][3]*x4 + A_c[i][4]*x5<= b[i])\n",
    "    print cs\n",
    "poly = ppl.C_Polyhedron(cs)\n",
    "poly.minimized_generators()"
   ]
  },
  {
   "cell_type": "code",
   "execution_count": 37,
   "metadata": {
    "collapsed": false
   },
   "outputs": [
    {
     "data": {
      "text/plain": [
       "Constraint_System {}"
      ]
     },
     "execution_count": 37,
     "metadata": {},
     "output_type": "execute_result"
    }
   ],
   "source": [
    "cs"
   ]
  },
  {
   "cell_type": "code",
   "execution_count": 2,
   "metadata": {
    "collapsed": false
   },
   "outputs": [
    {
     "data": {
      "text/plain": [
       "Generator_System {point(1/1, 0/1, 0/1), point(0/1, 1/1, 0/1), point(0/1, 0/1, 1/1)}"
      ]
     },
     "execution_count": 2,
     "metadata": {},
     "output_type": "execute_result"
    }
   ],
   "source": [
    "import ppl\n",
    "x = ppl.Variable(0)\n",
    "y = ppl.Variable(1)\n",
    "z = ppl.Variable(2)\n",
    "cs = ppl.Constraint_System()\n",
    "cs.insert(x >= 0)\n",
    "cs.insert(y >= 0)\n",
    "cs.insert(z >= 0)\n",
    "cs.insert(x + y + z == 1)\n",
    "poly = ppl.C_Polyhedron(cs)\n",
    "poly.minimized_generators()"
   ]
  },
  {
   "cell_type": "code",
   "execution_count": 3,
   "metadata": {
    "collapsed": true
   },
   "outputs": [],
   "source": [
    "%matplotlib inline\n",
    "import matplotlib.pyplot as plt\n",
    "\n",
    "import numpy as np\n",
    "import rospy\n",
    "from prx_simulation.msg import ControllerParams, LinGaussParams, TfParams, CaffeParams, \\\n",
    "                               TfActionCommand, gps_trial_command_msg,\\\n",
    "                               SampleResult, gps_state_command_msg, superball_T6_new_config,\\\n",
    "                                ObserverParams\n",
    "from gps.agent.ros.ros_utils import ServiceEmulator\n",
    "import rosbag\n",
    "\n",
    "import GPy\n",
    "import GPyOpt\n",
    "\n",
    "import time\n",
    "import random\n",
    "from datetime import datetime\n",
    "\n",
    "import dill\n",
    "import pickle\n",
    "\n",
    "from tqdm import *\n",
    "import scipy.io\n",
    "import copy\n",
    "from numpy.random import seed"
   ]
  },
  {
   "cell_type": "code",
   "execution_count": 2,
   "metadata": {
    "collapsed": false
   },
   "outputs": [],
   "source": [
    "import polytope as pc\n",
    "import numpy as np"
   ]
  },
  {
   "cell_type": "code",
   "execution_count": 3,
   "metadata": {
    "collapsed": true
   },
   "outputs": [],
   "source": [
    "A = np.array([[1.0, 0.0],\n",
    "              [0.0, 1.0],\n",
    "              [-1.0, -0.0],\n",
    "              [-0.0, -1.0]])\n",
    "\n",
    "b = np.array([2.0, 1.0, 0.0, 0.0])\n",
    "\n",
    "p = pc.Polytope(A_c, b)"
   ]
  },
  {
   "cell_type": "code",
   "execution_count": 100,
   "metadata": {
    "collapsed": false
   },
   "outputs": [
    {
     "data": {
      "text/plain": [
       "(30, 5)"
      ]
     },
     "execution_count": 100,
     "metadata": {},
     "output_type": "execute_result"
    }
   ],
   "source": [
    "A_c.shape"
   ]
  },
  {
   "cell_type": "code",
   "execution_count": 101,
   "metadata": {
    "collapsed": false
   },
   "outputs": [
    {
     "data": {
      "text/plain": [
       "(30,)"
      ]
     },
     "execution_count": 101,
     "metadata": {},
     "output_type": "execute_result"
    }
   ],
   "source": [
    "b.shape"
   ]
  },
  {
   "cell_type": "code",
   "execution_count": 103,
   "metadata": {
    "collapsed": false
   },
   "outputs": [
    {
     "name": "stdout",
     "output_type": "stream",
     "text": [
      "Optimization failed. Unable to find a feasible starting point.\n"
     ]
    }
   ],
   "source": [
    "from scipy.optimize import linprog\n",
    "\n",
    "\n",
    "low_percentage = 0.85\n",
    "high_percentage = 1.05\n",
    "\n",
    "A = np.random.rand(15,5)\n",
    "inv_A = np.linalg.pinv(A)\n",
    "\n",
    "c = np.zeros((5,))\n",
    "\n",
    "A_c = np.concatenate((-A,A))\n",
    "b1 = -np.ones((15,))*low_percentage\n",
    "b2 = np.ones((15,))*high_percentage\n",
    "b = np.concatenate((b1,b2))\n",
    "\n",
    "res = linprog(c, A_ub=A_c, b_ub=b, bounds=((None,None),(None,None),(None,None),(None,None),(None,None)),\\\n",
    "              options={\"disp\": True})\n",
    "\n",
    "while (res.status != 0):\n",
    "    A = np.random.rand(15,5)\n",
    "    inv_A = np.linalg.pinv(A)\n",
    "\n",
    "    A_c = np.concatenate((-A,A))\n",
    "    res = linprog(c, A_ub=A_c, b_ub=b, bounds=((None,None),(None,None),(None,None),(None,None),(None,None)),\\\n",
    "              options={\"disp\": False})"
   ]
  },
  {
   "cell_type": "code",
   "execution_count": 104,
   "metadata": {
    "collapsed": false
   },
   "outputs": [
    {
     "data": {
      "text/plain": [
       "     fun: -0.0\n",
       " message: 'Optimization terminated successfully.'\n",
       "     nit: 25\n",
       "   slack: array([ 0.2    ,  0.2    ,  0.2    ,  0.2    ,  0.02334,  0.01994,\n",
       "        0.09153,  0.17229,  0.03555,  0.11841,  0.10874,  0.09867,\n",
       "        0.05113,  0.2    ,  0.02064,  0.     ,  0.     ,  0.     ,\n",
       "        0.     ,  0.17666,  0.     ,  0.     ,  0.02771,  0.     ,\n",
       "        0.     ,  0.     ,  0.     ,  0.     ,  0.     ,  0.17936])\n",
       "  status: 0\n",
       " success: True\n",
       "       x: array([ 0.38584,  0.64404,  0.28309,  0.32589,  0.35687])"
      ]
     },
     "execution_count": 104,
     "metadata": {},
     "output_type": "execute_result"
    }
   ],
   "source": [
    "res"
   ]
  },
  {
   "cell_type": "code",
   "execution_count": 137,
   "metadata": {
    "collapsed": false
   },
   "outputs": [
    {
     "name": "stdout",
     "output_type": "stream",
     "text": [
      "Optimization failed. Unable to find a feasible starting point.\n"
     ]
    }
   ],
   "source": [
    "low_percentage = 0.85\n",
    "high_percentage = 1.05\n",
    "\n",
    "A = np.random.rand(5,15)\n",
    "inv_A = np.linalg.pinv(A)\n",
    "\n",
    "c = np.zeros((5,))\n",
    "\n",
    "A_c = np.concatenate((-inv_A,inv_A))\n",
    "b1 = -np.ones((15,))*low_percentage\n",
    "b2 = np.ones((15,))*high_percentage\n",
    "b = np.concatenate((b1,b2))\n",
    "\n",
    "res = linprog(c, A_ub=A_c, b_ub=b, bounds=((None,None),(None,None),(None,None),(None,None),(None,None)),\n",
    "              options={\"disp\": True})\n",
    "\n",
    "while (res.status != 0):\n",
    "    A = np.random.rand(5,15)\n",
    "    inv_A = np.linalg.pinv(A)\n",
    "\n",
    "    A_c = np.concatenate((-inv_A,inv_A))\n",
    "    res = linprog(c, A_ub=A_c, b_ub=b, bounds=((None,None),(None,None),(None,None),(None,None),(None,None)),\n",
    "              options={\"disp\": False})"
   ]
  },
  {
   "cell_type": "code",
   "execution_count": 138,
   "metadata": {
    "collapsed": false
   },
   "outputs": [
    {
     "data": {
      "text/plain": [
       "     fun: -0.0\n",
       " message: 'Optimization terminated successfully.'\n",
       "     nit: 20\n",
       "   slack: array([ 0.19127,  0.10928,  0.01644,  0.2    ,  0.03953,  0.2    ,\n",
       "        0.15594,  0.13755,  0.2    ,  0.02341,  0.17896,  0.2    ,\n",
       "        0.2    ,  0.13046,  0.10847,  0.     ,  0.09072,  0.18356,\n",
       "        0.     ,  0.     ,  0.     ,  0.     ,  0.     ,  0.     ,\n",
       "        0.     ,  0.     ,  0.     ,  0.     ,  0.     ,  0.     ])\n",
       "  status: 0\n",
       " success: True\n",
       "       x: array([ 6.05077,  6.02401,  6.06567,  8.30608,  7.25212])"
      ]
     },
     "execution_count": 138,
     "metadata": {},
     "output_type": "execute_result"
    }
   ],
   "source": [
    "res"
   ]
  },
  {
   "cell_type": "code",
   "execution_count": 269,
   "metadata": {
    "collapsed": true
   },
   "outputs": [],
   "source": [
    "p = pc.Polytope(A_c, b)"
   ]
  },
  {
   "cell_type": "code",
   "execution_count": 287,
   "metadata": {
    "collapsed": false
   },
   "outputs": [
    {
     "data": {
      "text/plain": [
       "7.6020942369654874e-06"
      ]
     },
     "execution_count": 287,
     "metadata": {},
     "output_type": "execute_result"
    }
   ],
   "source": [
    "p.volume"
   ]
  },
  {
   "cell_type": "code",
   "execution_count": 231,
   "metadata": {
    "collapsed": false
   },
   "outputs": [
    {
     "data": {
      "text/plain": [
       "0.014867305154413184"
      ]
     },
     "execution_count": 231,
     "metadata": {},
     "output_type": "execute_result"
    }
   ],
   "source": [
    "p.chebR"
   ]
  },
  {
   "cell_type": "code",
   "execution_count": 232,
   "metadata": {
    "collapsed": false
   },
   "outputs": [
    {
     "data": {
      "text/plain": [
       "array([ 6.12811,  6.07458,  6.11971,  8.32776,  7.29472])"
      ]
     },
     "execution_count": 232,
     "metadata": {},
     "output_type": "execute_result"
    }
   ],
   "source": [
    "p.chebXc"
   ]
  },
  {
   "cell_type": "code",
   "execution_count": 243,
   "metadata": {
    "collapsed": false
   },
   "outputs": [
    {
     "data": {
      "text/plain": [
       "(array([[ 6.04825],\n",
       "        [ 6.01338],\n",
       "        [ 6.06567],\n",
       "        [ 8.25609],\n",
       "        [ 7.21985]]), array([[ 6.62553],\n",
       "        [ 6.50475],\n",
       "        [ 6.3507 ],\n",
       "        [ 8.64869],\n",
       "        [ 7.81858]]))"
      ]
     },
     "execution_count": 243,
     "metadata": {},
     "output_type": "execute_result"
    }
   ],
   "source": [
    "p.bbox"
   ]
  },
  {
   "cell_type": "code",
   "execution_count": 242,
   "metadata": {
    "collapsed": false
   },
   "outputs": [
    {
     "data": {
      "text/plain": [
       "(array([], shape=(5, 0), dtype=float64),\n",
       " [4.6182483085083277,\n",
       "  3.9309718203973034,\n",
       "  2.2802614658506144,\n",
       "  3.1408178043479467,\n",
       "  4.7898133469029389])"
      ]
     },
     "execution_count": 242,
     "metadata": {},
     "output_type": "execute_result"
    }
   ],
   "source": [
    "polytope.grid_region(p)"
   ]
  },
  {
   "cell_type": "code",
   "execution_count": 270,
   "metadata": {
    "collapsed": false
   },
   "outputs": [
    {
     "data": {
      "text/plain": [
       "(array([[ 6.04825],\n",
       "        [ 6.01338],\n",
       "        [ 6.06567],\n",
       "        [ 8.25609],\n",
       "        [ 7.21985]]), array([[ 6.62553],\n",
       "        [ 6.50475],\n",
       "        [ 6.3507 ],\n",
       "        [ 8.64869],\n",
       "        [ 7.81858]]))"
      ]
     },
     "execution_count": 270,
     "metadata": {},
     "output_type": "execute_result"
    }
   ],
   "source": [
    "p.bounding_box"
   ]
  },
  {
   "cell_type": "code",
   "execution_count": 264,
   "metadata": {
    "collapsed": true
   },
   "outputs": [],
   "source": [
    "V_min = polytope.extreme(p)"
   ]
  },
  {
   "cell_type": "code",
   "execution_count": 273,
   "metadata": {
    "collapsed": false
   },
   "outputs": [],
   "source": [
    "p_reduced = polytope.reduce(p)"
   ]
  },
  {
   "cell_type": "code",
   "execution_count": 275,
   "metadata": {
    "collapsed": false
   },
   "outputs": [
    {
     "data": {
      "text/plain": [
       "(34, 5)"
      ]
     },
     "execution_count": 275,
     "metadata": {},
     "output_type": "execute_result"
    }
   ],
   "source": [
    "polytope.extreme(p_reduced).shape"
   ]
  },
  {
   "cell_type": "code",
   "execution_count": 288,
   "metadata": {
    "collapsed": false
   },
   "outputs": [
    {
     "data": {
      "text/plain": [
       "array([[ 6.10457,  6.06346,  6.07264,  8.35837,  7.34085],\n",
       "       [ 6.22113,  6.11769,  6.08757,  8.37117,  7.44791],\n",
       "       [ 6.20531,  6.08908,  6.08544,  8.30107,  7.37545],\n",
       "       [ 6.08521,  6.06369,  6.13252,  8.34624,  7.35717],\n",
       "       [ 6.21515,  6.13997,  6.11156,  8.4838 ,  7.48069],\n",
       "       [ 6.0589 ,  6.02488,  6.13187,  8.25609,  7.26099],\n",
       "       [ 6.10489,  6.09898,  6.20748,  8.30913,  7.31901],\n",
       "       [ 6.05077,  6.02401,  6.06567,  8.30608,  7.25212],\n",
       "       [ 6.0602 ,  6.01338,  6.06681,  8.25882,  7.21985],\n",
       "       [ 6.09834,  6.06944,  6.10286,  8.30328,  7.251  ],\n",
       "       [ 6.14987,  6.0598 ,  6.13114,  8.35378,  7.25054],\n",
       "       [ 6.29493,  6.20637,  6.25233,  8.51543,  7.3358 ],\n",
       "       [ 6.15636,  6.0892 ,  6.14525,  8.45679,  7.31237],\n",
       "       [ 6.42668,  6.32146,  6.17854,  8.56997,  7.70742],\n",
       "       [ 6.42677,  6.31705,  6.17589,  8.56271,  7.70459],\n",
       "       [ 6.42465,  6.32107,  6.18305,  8.56868,  7.70811],\n",
       "       [ 6.4264 ,  6.31988,  6.17875,  8.57577,  7.7087 ],\n",
       "       [ 6.06402,  6.05   ,  6.13779,  8.32651,  7.32842],\n",
       "       [ 6.05548,  6.02927,  6.13489,  8.27274,  7.27463],\n",
       "       [ 6.08555,  6.07887,  6.18534,  8.30983,  7.31466],\n",
       "       [ 6.04825,  6.03615,  6.12585,  8.31012,  7.29476],\n",
       "       [ 6.0583 ,  6.04429,  6.14221,  8.32554,  7.30673],\n",
       "       [ 6.59568,  6.44024,  6.26269,  8.55085,  7.7543 ],\n",
       "       [ 6.5788 ,  6.43319,  6.25217,  8.57395,  7.7702 ],\n",
       "       [ 6.62261,  6.50403,  6.32867,  8.61778,  7.81847],\n",
       "       [ 6.59328,  6.47548,  6.29382,  8.58382,  7.74189],\n",
       "       [ 6.56426,  6.44315,  6.25756,  8.60699,  7.7774 ],\n",
       "       [ 6.60049,  6.4667 ,  6.34104,  8.64869,  7.68255],\n",
       "       [ 6.55422,  6.42827,  6.25339,  8.63051,  7.77861],\n",
       "       [ 6.57359,  6.47171,  6.33852,  8.57375,  7.75387],\n",
       "       [ 6.61902,  6.48091,  6.30619,  8.57998,  7.785  ],\n",
       "       [ 6.62329,  6.50475,  6.32951,  8.61771,  7.81858],\n",
       "       [ 6.6121 ,  6.49458,  6.31653,  8.59481,  7.76987],\n",
       "       [ 6.62553,  6.50069,  6.3507 ,  8.63097,  7.75712]])"
      ]
     },
     "execution_count": 288,
     "metadata": {},
     "output_type": "execute_result"
    }
   ],
   "source": [
    "V_min"
   ]
  },
  {
   "cell_type": "code",
   "execution_count": 21,
   "metadata": {
    "collapsed": true
   },
   "outputs": [],
   "source": [
    "default_config = \\\n",
    "[         0.38618,    # density (kg / length^3) weight of both endcaps: 3.3kg (1.65 kg each)\n",
    "         0.35,     # radius (length) radius of an endcap\n",
    "         0.208,      # density_mp (kg / length^3) weight of connecting rod: 200g \n",
    "         0.175,      #radius_mp (length) radius of the connecting rod\n",
    "         3152.36,  # stiffnessActive (kg / sec^2)\n",
    "         200.0,    # damping (kg / sec)\n",
    "         17.4,     # rod_length (length)\n",
    "         4.5,      # rod_space (length)\n",
    "         10.0,        # rod_length_mp (length)\n",
    "         100.0,   # pretension -> set to \n",
    "         2000,   # maxTens\n",
    "         2,    # targetVelocity\n",
    "         0.09, # motor_radius # Spindle radius (length)\n",
    "         2*4.24e-5, # motor_friction (kg*(length)^2/sec)\n",
    "         4*2.749e-4, # motor_inertia (kg*(length)^2) # Inertia of motor, gearbox, and spindle all together\n",
    "]"
   ]
  },
  {
   "cell_type": "code",
   "execution_count": 30,
   "metadata": {
    "collapsed": true
   },
   "outputs": [],
   "source": [
    "import numpy.matlib"
   ]
  },
  {
   "cell_type": "code",
   "execution_count": 277,
   "metadata": {
    "collapsed": true
   },
   "outputs": [],
   "source": [
    "total_sample = 10000\n",
    "x_range = []\n",
    "for i in xrange(0,total_sample):\n",
    "    sample = np.random.random_sample((V_min.shape[0],))\n",
    "    n_sample = sample/np.sum(sample)\n",
    "    n_sample = np.array([n_sample,])\n",
    "    n_sample = n_sample.T\n",
    "    weighted_V = np.dot(V_min.T,n_sample)\n",
    "    \n",
    "    x_proj = np.multiply(np.squeeze(np.dot(inv_A,weighted_V)),np.array(default_config))\n",
    "    x_range.append(x_proj)"
   ]
  },
  {
   "cell_type": "code",
   "execution_count": 278,
   "metadata": {
    "collapsed": false
   },
   "outputs": [],
   "source": [
    "x_range_array = np.asarray(x_range)"
   ]
  },
  {
   "cell_type": "code",
   "execution_count": 279,
   "metadata": {
    "collapsed": false
   },
   "outputs": [
    {
     "data": {
      "text/plain": [
       "array([    0.3347 ,     0.33761,     0.17863,     0.15267,  3160.29588,\n",
       "         170.90484,    17.29322,     4.26749,    10.38458,   104.30879,\n",
       "        1812.74013,     1.70236,     0.08151,     0.00008,     0.00107])"
      ]
     },
     "execution_count": 279,
     "metadata": {},
     "output_type": "execute_result"
    }
   ],
   "source": [
    "np.min(x_range_array,axis=0)"
   ]
  },
  {
   "cell_type": "code",
   "execution_count": 280,
   "metadata": {
    "collapsed": false
   },
   "outputs": [
    {
     "data": {
      "text/plain": [
       "array([    0.3421 ,     0.34436,     0.18128,     0.15773,  3196.49609,\n",
       "         173.05939,    17.48356,     4.50019,    10.47915,   104.88798,\n",
       "        1896.92881,     1.71719,     0.0875 ,     0.00008,     0.00111])"
      ]
     },
     "execution_count": 280,
     "metadata": {},
     "output_type": "execute_result"
    }
   ],
   "source": [
    "np.max(x_range_array,axis=0)"
   ]
  },
  {
   "cell_type": "code",
   "execution_count": 290,
   "metadata": {
    "collapsed": false
   },
   "outputs": [],
   "source": [
    "import itertools, copy\n",
    "\n",
    "global A,inv_A\n",
    "\n",
    "tlist = list(itertools.product(range(2), repeat=5))\n",
    "num_possibilities = len(tlist)\n",
    "\n",
    "\n",
    "x_range = np.zeros((num_possibilities, 15))\n",
    "\n",
    "for i in xrange(0,num_possibilities):\n",
    "    index = np.array(tlist[i])\n",
    "    config = copy.deepcopy(p.bounding_box[0])\n",
    "    for j in xrange(0,5):\n",
    "        if index[j]==0:\n",
    "            config[j] =p.bounding_box[0][j]\n",
    "        else:\n",
    "            config[j] =p.bounding_box[1][j]\n",
    "#     print config\n",
    "    x_range[i,:] = np.multiply(np.squeeze(np.dot(inv_A,config)),np.array(default_config))\n",
    "# print \"y_range shape: \", y_range.shape"
   ]
  },
  {
   "cell_type": "code",
   "execution_count": 291,
   "metadata": {
    "collapsed": false
   },
   "outputs": [
    {
     "data": {
      "text/plain": [
       "array([[ 6.04825],\n",
       "       [ 6.01338],\n",
       "       [ 6.06567],\n",
       "       [ 8.25609],\n",
       "       [ 7.21985]])"
      ]
     },
     "execution_count": 291,
     "metadata": {},
     "output_type": "execute_result"
    }
   ],
   "source": [
    "p.bounding_box[0]"
   ]
  },
  {
   "cell_type": "code",
   "execution_count": 292,
   "metadata": {
    "collapsed": false
   },
   "outputs": [
    {
     "data": {
      "text/plain": [
       "[0.38618,\n",
       " 0.35,\n",
       " 0.208,\n",
       " 0.175,\n",
       " 3152.36,\n",
       " 200.0,\n",
       " 17.4,\n",
       " 4.5,\n",
       " 10.0,\n",
       " 100.0,\n",
       " 2000,\n",
       " 2,\n",
       " 0.09,\n",
       " 8.48e-05,\n",
       " 0.0010996]"
      ]
     },
     "execution_count": 292,
     "metadata": {},
     "output_type": "execute_result"
    }
   ],
   "source": [
    "default_config"
   ]
  },
  {
   "cell_type": "code",
   "execution_count": 293,
   "metadata": {
    "collapsed": false
   },
   "outputs": [
    {
     "data": {
      "text/plain": [
       "array([    0.26277,     0.28343,     0.14156,     0.11476,  2590.80888,\n",
       "         133.16557,    12.06336,     3.26796,     6.47148,    71.96799,\n",
       "        1401.01756,     1.30222,     0.06008,     0.00007,     0.00091])"
      ]
     },
     "execution_count": 293,
     "metadata": {},
     "output_type": "execute_result"
    }
   ],
   "source": [
    "np.min(x_range,axis=0)"
   ]
  },
  {
   "cell_type": "code",
   "execution_count": 294,
   "metadata": {
    "collapsed": false
   },
   "outputs": [
    {
     "data": {
      "text/plain": [
       "array([    0.41801,     0.39345,     0.2152 ,     0.19856,  3727.46896,\n",
       "         210.69522,    22.8165 ,     5.48212,    14.41965,   136.46306,\n",
       "        2326.22456,     2.10852,     0.10927,     0.0001 ,     0.00127])"
      ]
     },
     "execution_count": 294,
     "metadata": {},
     "output_type": "execute_result"
    }
   ],
   "source": [
    "np.max(x_range,axis=0)"
   ]
  },
  {
   "cell_type": "code",
   "execution_count": 228,
   "metadata": {
    "collapsed": false
   },
   "outputs": [
    {
     "data": {
      "text/plain": [
       "array([    0.33385,     0.33115,     0.17715,     0.1491 ,  3152.16652,\n",
       "         170.26168,    17.39732,     4.06033,    10.37384,   102.63106,\n",
       "        1740.15323,     1.69439,     0.07628,     0.00008,     0.00103])"
      ]
     },
     "execution_count": 228,
     "metadata": {},
     "output_type": "execute_result"
    }
   ],
   "source": [
    "np.multiply(np.squeeze(np.dot(inv_A,p.bounding_box[0])),np.array(default_config))"
   ]
  },
  {
   "cell_type": "code",
   "execution_count": 227,
   "metadata": {
    "collapsed": false
   },
   "outputs": [
    {
     "data": {
      "text/plain": [
       "array([    0.34693,     0.34573,     0.17961,     0.16422,  3166.11132,\n",
       "         173.59911,    17.48254,     4.68975,    10.51728,   105.79998,\n",
       "        1987.08889,     1.71635,     0.09307,     0.00009,     0.00115])"
      ]
     },
     "execution_count": 227,
     "metadata": {},
     "output_type": "execute_result"
    }
   ],
   "source": [
    "np.multiply(np.squeeze(np.dot(inv_A,p.bounding_box[1])),np.array(default_config))\n",
    "\n"
   ]
  },
  {
   "cell_type": "code",
   "execution_count": 204,
   "metadata": {
    "collapsed": false
   },
   "outputs": [],
   "source": [
    "sample = np.random.random_sample((V_min.shape[0],))\n",
    "n_sample = sample/np.sum(sample)\n",
    "n_sample = np.array([n_sample,])\n",
    "n_sample = n_sample.T\n",
    "weighted_V = np.dot(V_min.T,n_sample)\n",
    "\n",
    "x_proj = np.multiply(np.squeeze(np.dot(inv_A,weighted_V)),np.array(default_config))"
   ]
  },
  {
   "cell_type": "code",
   "execution_count": 205,
   "metadata": {
    "collapsed": false
   },
   "outputs": [
    {
     "data": {
      "text/plain": [
       "array([    0.33678,     0.34137,     0.18037,     0.15421,  3183.17299,\n",
       "         171.79585,    17.36035,     4.3892 ,    10.42209,   104.64303,\n",
       "        1846.33714,     1.70884,     0.08428,     0.00008,     0.00109])"
      ]
     },
     "execution_count": 205,
     "metadata": {},
     "output_type": "execute_result"
    }
   ],
   "source": [
    "x_proj"
   ]
  },
  {
   "cell_type": "code",
   "execution_count": 203,
   "metadata": {
    "collapsed": false
   },
   "outputs": [
    {
     "data": {
      "text/plain": [
       "(15, 1)"
      ]
     },
     "execution_count": 203,
     "metadata": {},
     "output_type": "execute_result"
    }
   ],
   "source": [
    "np.dot(inv_A,weighted_V).shape"
   ]
  },
  {
   "cell_type": "code",
   "execution_count": 197,
   "metadata": {
    "collapsed": false
   },
   "outputs": [
    {
     "data": {
      "text/plain": [
       "(5, 1)"
      ]
     },
     "execution_count": 197,
     "metadata": {},
     "output_type": "execute_result"
    }
   ],
   "source": [
    "weighted_V.shapeV_min"
   ]
  },
  {
   "cell_type": "code",
   "execution_count": 198,
   "metadata": {
    "collapsed": false
   },
   "outputs": [
    {
     "data": {
      "text/plain": [
       "(15, 5)"
      ]
     },
     "execution_count": 198,
     "metadata": {},
     "output_type": "execute_result"
    }
   ],
   "source": [
    "inv_A.shape"
   ]
  },
  {
   "cell_type": "code",
   "execution_count": 191,
   "metadata": {
    "collapsed": false
   },
   "outputs": [
    {
     "data": {
      "text/plain": [
       "(34,)"
      ]
     },
     "execution_count": 191,
     "metadata": {},
     "output_type": "execute_result"
    }
   ],
   "source": [
    "np.array([n_sample]).shape"
   ]
  },
  {
   "cell_type": "code",
   "execution_count": 173,
   "metadata": {
    "collapsed": false
   },
   "outputs": [
    {
     "data": {
      "text/plain": [
       "array([ 0.25539,  0.25717,  0.23757,  0.31421,  0.63035,  0.32531,\n",
       "        0.40195,  0.31021,  0.06875,  0.21498,  0.28922,  0.7878 ,\n",
       "        0.20886,  0.29267,  0.80414,  0.21856,  0.26735,  0.58742,\n",
       "        0.47817,  0.42861,  0.82003,  0.8752 ,  0.62843,  0.8922 ,\n",
       "        0.76724,  0.42179,  0.63352,  0.02693,  0.73797,  0.01764,\n",
       "        0.47926,  0.58851,  0.71003,  0.06262])"
      ]
     },
     "execution_count": 173,
     "metadata": {},
     "output_type": "execute_result"
    }
   ],
   "source": [
    "sample"
   ]
  },
  {
   "cell_type": "code",
   "execution_count": 174,
   "metadata": {
    "collapsed": false
   },
   "outputs": [
    {
     "data": {
      "text/plain": [
       "array([ 0.01698,  0.0171 ,  0.0158 ,  0.02089,  0.04191,  0.02163,\n",
       "        0.02673,  0.02063,  0.00457,  0.01429,  0.01923,  0.05238,\n",
       "        0.01389,  0.01946,  0.05347,  0.01453,  0.01778,  0.03906,\n",
       "        0.03179,  0.0285 ,  0.05452,  0.05819,  0.04178,  0.05932,\n",
       "        0.05101,  0.02804,  0.04212,  0.00179,  0.04907,  0.00117,\n",
       "        0.03187,  0.03913,  0.04721,  0.00416])"
      ]
     },
     "execution_count": 174,
     "metadata": {},
     "output_type": "execute_result"
    }
   ],
   "source": [
    "n_sample"
   ]
  },
  {
   "cell_type": "code",
   "execution_count": 175,
   "metadata": {
    "collapsed": false
   },
   "outputs": [
    {
     "data": {
      "text/plain": [
       "0.99999999999999989"
      ]
     },
     "execution_count": 175,
     "metadata": {},
     "output_type": "execute_result"
    }
   ],
   "source": [
    "np.sum(n_sample)"
   ]
  },
  {
   "cell_type": "code",
   "execution_count": 149,
   "metadata": {
    "collapsed": false
   },
   "outputs": [],
   "source": [
    "default_config_array = np.matlib.repmat(default_config, V_min.shape[0], 1)"
   ]
  },
  {
   "cell_type": "code",
   "execution_count": 144,
   "metadata": {
    "collapsed": false
   },
   "outputs": [
    {
     "data": {
      "text/plain": [
       "(34, 15)"
      ]
     },
     "execution_count": 144,
     "metadata": {},
     "output_type": "execute_result"
    }
   ],
   "source": [
    "default_config_array.shape"
   ]
  },
  {
   "cell_type": "code",
   "execution_count": 145,
   "metadata": {
    "collapsed": false
   },
   "outputs": [
    {
     "data": {
      "text/plain": [
       "(15, 34)"
      ]
     },
     "execution_count": 145,
     "metadata": {},
     "output_type": "execute_result"
    }
   ],
   "source": [
    "np.dot(inv_A,V_min.T).shape"
   ]
  },
  {
   "cell_type": "code",
   "execution_count": 146,
   "metadata": {
    "collapsed": false
   },
   "outputs": [
    {
     "data": {
      "text/plain": [
       "(5, 15)"
      ]
     },
     "execution_count": 146,
     "metadata": {},
     "output_type": "execute_result"
    }
   ],
   "source": [
    "A.shape"
   ]
  },
  {
   "cell_type": "code",
   "execution_count": 147,
   "metadata": {
    "collapsed": false
   },
   "outputs": [
    {
     "data": {
      "text/plain": [
       "(15, 5)"
      ]
     },
     "execution_count": 147,
     "metadata": {},
     "output_type": "execute_result"
    }
   ],
   "source": [
    "inv_A.shape"
   ]
  },
  {
   "cell_type": "code",
   "execution_count": 266,
   "metadata": {
    "collapsed": false
   },
   "outputs": [],
   "source": [
    "x_proj = np.multiply(np.dot(inv_A,V_min.T),default_config_array.T)"
   ]
  },
  {
   "cell_type": "code",
   "execution_count": 267,
   "metadata": {
    "collapsed": false
   },
   "outputs": [
    {
     "data": {
      "text/plain": [
       "array([    0.32825,     0.32921,     0.1768 ,     0.14875,  3110.1342 ,\n",
       "         170.     ,    16.73399,     3.89942,     9.98388,   102.15229,\n",
       "        1700.     ,     1.7    ,     0.0765 ,     0.00008,     0.00101])"
      ]
     },
     "execution_count": 267,
     "metadata": {},
     "output_type": "execute_result"
    }
   ],
   "source": [
    "np.min(x_proj,axis=1)"
   ]
  },
  {
   "cell_type": "code",
   "execution_count": 268,
   "metadata": {
    "collapsed": false
   },
   "outputs": [
    {
     "data": {
      "text/plain": [
       "array([    0.362  ,     0.35438,     0.1869 ,     0.16549,  3253.25118,\n",
       "         178.35276,    17.89852,     4.725  ,    10.5    ,   105.     ,\n",
       "        2013.60562,     1.7862 ,     0.0941 ,     0.00009,     0.00115])"
      ]
     },
     "execution_count": 268,
     "metadata": {},
     "output_type": "execute_result"
    }
   ],
   "source": [
    "np.max(x_proj,axis=1)"
   ]
  },
  {
   "cell_type": "code",
   "execution_count": 256,
   "metadata": {
    "collapsed": false
   },
   "outputs": [
    {
     "data": {
      "text/plain": [
       "[0.38618,\n",
       " 0.35,\n",
       " 0.208,\n",
       " 0.175,\n",
       " 3152.36,\n",
       " 200.0,\n",
       " 17.4,\n",
       " 4.5,\n",
       " 10.0,\n",
       " 100.0,\n",
       " 2000,\n",
       " 2,\n",
       " 0.09,\n",
       " 8.48e-05,\n",
       " 0.0010996]"
      ]
     },
     "execution_count": 256,
     "metadata": {},
     "output_type": "execute_result"
    }
   ],
   "source": [
    "b1_plus.shape"
   ]
  },
  {
   "cell_type": "code",
   "execution_count": 261,
   "metadata": {
    "collapsed": false
   },
   "outputs": [
    {
     "data": {
      "text/plain": [
       "array([    0.32825,     0.2975 ,     0.1768 ,     0.14875,  2679.506  ,\n",
       "         170.     ,    14.79   ,     3.825  ,     8.5    ,    85.     ,\n",
       "        1700.     ,     1.7    ,     0.0765 ,     0.00007,     0.00093])"
      ]
     },
     "execution_count": 261,
     "metadata": {},
     "output_type": "execute_result"
    }
   ],
   "source": [
    "np.asarray(default_config)*.85"
   ]
  },
  {
   "cell_type": "code",
   "execution_count": 262,
   "metadata": {
    "collapsed": false
   },
   "outputs": [
    {
     "data": {
      "text/plain": [
       "(34, 5)"
      ]
     },
     "execution_count": 262,
     "metadata": {},
     "output_type": "execute_result"
    }
   ],
   "source": [
    "V_min.shape"
   ]
  },
  {
   "cell_type": "code",
   "execution_count": 160,
   "metadata": {
    "collapsed": false
   },
   "outputs": [
    {
     "data": {
      "text/plain": [
       "array([    0.32825,     0.2975 ,     0.1768 ,     0.14875,  2679.506  ,\n",
       "         170.     ,    14.79   ,     3.825  ,     8.5    ,    85.     ,\n",
       "        1700.     ,     1.7    ,     0.0765 ,     0.00007,     0.00093])"
      ]
     },
     "execution_count": 160,
     "metadata": {},
     "output_type": "execute_result"
    }
   ],
   "source": [
    "np.multiply(b1_plus,np.array(default_config))"
   ]
  },
  {
   "cell_type": "code",
   "execution_count": 161,
   "metadata": {
    "collapsed": false
   },
   "outputs": [
    {
     "data": {
      "text/plain": [
       "array([    0.40549,     0.3675 ,     0.2184 ,     0.18375,  3309.978  ,\n",
       "         210.     ,    18.27   ,     4.725  ,    10.5    ,   105.     ,\n",
       "        2100.     ,     2.1    ,     0.0945 ,     0.00009,     0.00115])"
      ]
     },
     "execution_count": 161,
     "metadata": {},
     "output_type": "execute_result"
    }
   ],
   "source": [
    "np.multiply(b2,np.array(default_config))"
   ]
  }
 ],
 "metadata": {
  "kernelspec": {
   "display_name": "Python 2",
   "language": "python",
   "name": "python2"
  },
  "language_info": {
   "codemirror_mode": {
    "name": "ipython",
    "version": 2
   },
   "file_extension": ".py",
   "mimetype": "text/x-python",
   "name": "python",
   "nbconvert_exporter": "python",
   "pygments_lexer": "ipython2",
   "version": "2.7.6"
  }
 },
 "nbformat": 4,
 "nbformat_minor": 1
}
