{
 "cells": [
  {
   "cell_type": "code",
   "execution_count": 1,
   "metadata": {
    "collapsed": false
   },
   "outputs": [
    {
     "name": "stdout",
     "output_type": "stream",
     "text": [
      "Populating the interactive namespace from numpy and matplotlib\n"
     ]
    }
   ],
   "source": [
    "%pylab inline  \n",
    "import GPy\n",
    "import GPyOpt\n",
    "\n",
    "# Create the true and perturbed Forrester function and the boundaries of the problem\n",
    "f_true= GPyOpt.objective_examples.experiments1d.forrester()          # noisy version\n",
    "bounds = [{'name': 'var_1', 'type': 'continuous', 'domain': (0,0.9999)}]  # problem constrains "
   ]
  },
  {
   "cell_type": "code",
   "execution_count": 2,
   "metadata": {
    "collapsed": true
   },
   "outputs": [],
   "source": [
    "mean = [0, 0]\n",
    "cov = [[1, 0], [0, 100]]  # diagonal covariance"
   ]
  },
  {
   "cell_type": "code",
   "execution_count": 3,
   "metadata": {
    "collapsed": false
   },
   "outputs": [
    {
     "data": {
      "image/png": "[encoded data removed]",
      "text/plain": [
       "<matplotlib.figure.Figure at 0x7fc1e1813ed0>"
      ]
     },
     "metadata": {},
     "output_type": "display_data"
    }
   ],
   "source": [
    "import matplotlib.pyplot as plt\n",
    "x, y = np.random.multivariate_normal(mean, cov, 5000).T\n",
    "plt.plot(x, y, 'x')\n",
    "plt.axis('equal')\n",
    "plt.show()"
   ]
  },
  {
   "cell_type": "code",
   "execution_count": 2,
   "metadata": {
    "collapsed": false
   },
   "outputs": [
    {
     "name": "stdout",
     "output_type": "stream",
     "text": [
      "x.shape:  [[ 0.42306415]\n",
      " [ 0.98066612]\n",
      " [ 0.68476126]\n",
      " [ 0.48088381]\n",
      " [ 0.39207831]\n",
      " [ 0.3431437 ]\n",
      " [ 0.7289768 ]\n",
      " [ 0.43852839]\n",
      " [ 0.05967193]\n",
      " [ 0.39800445]]\n",
      "funcs: (10, 500)\n",
      "funcs: (10, 500, 1)\n",
      "funcs: (10, 500, 1)\n",
      "funcs: (10, 500)\n",
      "pmin: [  1.00000000e-70   8.20000000e-02   1.00000000e-70   1.00000000e-70\n",
      "   1.00000000e-70   1.00000000e-70   9.18000000e-01   1.00000000e-70\n",
      "   1.00000000e-70   1.00000000e-70]\n",
      "press to continue...\n",
      "x.shape:  [[ 0.98066612]]\n",
      "funcs: (1, 500)\n",
      "funcs: (1, 500, 1)\n",
      "funcs: (1, 500, 1)\n",
      "funcs: (1, 500)\n",
      "pmin: [ 1.]\n",
      "press to continue...\n",
      "x.shape:  [[ 0.98066612]]\n",
      "funcs: (1, 500)\n",
      "funcs: (1, 500, 1)\n",
      "funcs: (1, 500, 1)\n",
      "funcs: (1, 500)\n",
      "pmin: [ 1.]\n",
      "press to continue...\n",
      "x.shape:  [[ 0.05479845]]\n",
      "funcs: (1, 500)\n",
      "funcs: (1, 500, 1)\n",
      "funcs: (1, 500, 1)\n",
      "funcs: (1, 500)\n",
      "pmin: [ 1.]\n",
      "press to continue...\n",
      "x.shape:  [[ 0.05479845]]\n",
      "funcs: (1, 500)\n",
      "funcs: (1, 500, 1)\n",
      "funcs: (1, 500, 1)\n",
      "funcs: (1, 500)\n",
      "pmin: [ 1.]\n",
      "press to continue...\n",
      "x.shape:  [[ 0.72426385]]\n",
      "funcs: (1, 500)\n",
      "funcs: (1, 500, 1)\n",
      "funcs: (1, 500, 1)\n",
      "funcs: (1, 500)\n",
      "pmin: [ 1.]\n",
      "press to continue...\n",
      "x.shape:  [[ 0.72426385]]\n",
      "funcs: (1, 500)\n",
      "funcs: (1, 500, 1)\n",
      "funcs: (1, 500, 1)\n",
      "funcs: (1, 500)\n",
      "pmin: [ 1.]\n",
      "press to continue...\n",
      "x.shape:  [[ 0.83294178]]\n",
      "funcs: (1, 500)\n",
      "funcs: (1, 500, 1)\n",
      "funcs: (1, 500, 1)\n",
      "funcs: (1, 500)\n",
      "pmin: [ 1.]\n",
      "press to continue...\n",
      "x.shape:  [[ 0.83294178]]\n",
      "funcs: (1, 500)\n",
      "funcs: (1, 500, 1)\n",
      "funcs: (1, 500, 1)\n",
      "funcs: (1, 500)\n",
      "pmin: [ 1.]\n",
      "press to continue...\n",
      "x.shape:  [[ 0.94679421]]\n",
      "funcs: (1, 500)\n",
      "funcs: (1, 500, 1)\n",
      "funcs: (1, 500, 1)\n",
      "funcs: (1, 500)\n",
      "pmin: [ 1.]\n",
      "press to continue...\n",
      "x.shape:  [[ 0.94679421]]\n",
      "funcs: (1, 500)\n",
      "funcs: (1, 500, 1)\n",
      "funcs: (1, 500, 1)\n",
      "funcs: (1, 500)\n",
      "pmin: [ 1.]\n",
      "press to continue...\n",
      "x.shape:  [[ 0.97401906]]\n",
      "funcs: (1, 500)\n",
      "funcs: (1, 500, 1)\n",
      "funcs: (1, 500, 1)\n",
      "funcs: (1, 500)\n",
      "pmin: [ 1.]\n",
      "press to continue...\n",
      "x.shape:  [[ 0.97401906]]\n",
      "funcs: (1, 500)\n",
      "funcs: (1, 500, 1)\n",
      "funcs: (1, 500, 1)\n",
      "funcs: (1, 500)\n",
      "pmin: [ 1.]\n",
      "press to continue...\n",
      "x.shape:  [[ 0.97928408]]\n",
      "funcs: (1, 500)\n",
      "funcs: (1, 500, 1)\n",
      "funcs: (1, 500, 1)\n",
      "funcs: (1, 500)\n",
      "pmin: [ 1.]\n",
      "press to continue...\n",
      "x.shape:  [[ 0.97928408]]\n",
      "funcs: (1, 500)\n",
      "funcs: (1, 500, 1)\n",
      "funcs: (1, 500, 1)\n",
      "funcs: (1, 500)\n",
      "pmin: [ 1.]\n",
      "press to continue...\n",
      "x.shape:  [[ 0.98037537]]\n",
      "funcs: (1, 500)\n",
      "funcs: (1, 500, 1)\n",
      "funcs: (1, 500, 1)\n",
      "funcs: (1, 500)\n",
      "pmin: [ 1.]\n",
      "press to continue...\n",
      "x.shape:  [[ 0.98037537]]\n",
      "funcs: (1, 500)\n",
      "funcs: (1, 500, 1)\n",
      "funcs: (1, 500, 1)\n",
      "funcs: (1, 500)\n",
      "pmin: [ 1.]\n",
      "press to continue...\n",
      "x.shape:  [[ 0.9806048]]\n",
      "funcs: (1, 500)\n",
      "funcs: (1, 500, 1)\n",
      "funcs: (1, 500, 1)\n",
      "funcs: (1, 500)\n",
      "pmin: [ 1.]\n",
      "press to continue...\n",
      "x.shape:  [[ 0.9806048]]\n",
      "funcs: (1, 500)\n",
      "funcs: (1, 500, 1)\n",
      "funcs: (1, 500, 1)\n",
      "funcs: (1, 500)\n",
      "pmin: [ 1.]\n",
      "press to continue...\n",
      "x.shape:  [[ 0.98065318]]\n",
      "funcs: (1, 500)\n",
      "funcs: (1, 500, 1)\n",
      "funcs: (1, 500, 1)\n",
      "funcs: (1, 500)\n",
      "pmin: [ 1.]\n",
      "press to continue...\n",
      "x.shape:  [[ 0.98065318]]\n",
      "funcs: (1, 500)\n",
      "funcs: (1, 500, 1)\n",
      "funcs: (1, 500, 1)\n",
      "funcs: (1, 500)\n",
      "pmin: [ 1.]\n",
      "press to continue...\n",
      "x.shape:  [[ 0.98066339]]\n",
      "funcs: (1, 500)\n",
      "funcs: (1, 500, 1)\n",
      "funcs: (1, 500, 1)\n",
      "funcs: (1, 500)\n",
      "pmin: [ 1.]\n",
      "press to continue...\n",
      "x.shape:  [[ 0.98066339]]\n",
      "funcs: (1, 500)\n",
      "funcs: (1, 500, 1)\n",
      "funcs: (1, 500, 1)\n",
      "funcs: (1, 500)\n",
      "pmin: [ 1.]\n",
      "press to continue...\n",
      "x.shape:  [[ 0.98066555]]\n",
      "funcs: (1, 500)\n",
      "funcs: (1, 500, 1)\n",
      "funcs: (1, 500, 1)\n",
      "funcs: (1, 500)\n",
      "pmin: [ 1.]\n",
      "press to continue...\n",
      "x.shape:  [[ 0.98066555]]\n",
      "funcs: (1, 500)\n",
      "funcs: (1, 500, 1)\n",
      "funcs: (1, 500, 1)\n",
      "funcs: (1, 500)\n",
      "pmin: [ 1.]\n",
      "press to continue...\n",
      "x.shape:  [[ 0.980666]]\n",
      "funcs: (1, 500)\n",
      "funcs: (1, 500, 1)\n",
      "funcs: (1, 500, 1)\n",
      "funcs: (1, 500)\n",
      "pmin: [ 1.]\n",
      "press to continue...\n",
      "x.shape:  [[ 0.980666]]\n",
      "funcs: (1, 500)\n",
      "funcs: (1, 500, 1)\n",
      "funcs: (1, 500, 1)\n",
      "funcs: (1, 500)\n",
      "pmin: [ 1.]\n",
      "press to continue...\n",
      "x.shape:  [[ 0.9806661]]\n",
      "funcs: (1, 500)\n",
      "funcs: (1, 500, 1)\n",
      "funcs: (1, 500, 1)\n",
      "funcs: (1, 500)\n",
      "pmin: [ 1.]\n",
      "press to continue...\n",
      "x.shape:  [[ 0.9806661]]\n",
      "funcs: (1, 500)\n",
      "funcs: (1, 500, 1)\n",
      "funcs: (1, 500, 1)\n",
      "funcs: (1, 500)\n",
      "pmin: [ 1.]\n",
      "press to continue...\n",
      "x.shape:  [[ 0.98066612]]\n",
      "funcs: (1, 500)\n",
      "funcs: (1, 500, 1)\n",
      "funcs: (1, 500, 1)\n",
      "funcs: (1, 500)\n",
      "pmin: [ 1.]\n",
      "press to continue...\n",
      "x.shape:  [[ 0.98066612]]\n",
      "funcs: (1, 500)\n",
      "funcs: (1, 500, 1)\n",
      "funcs: (1, 500, 1)\n",
      "funcs: (1, 500)\n",
      "pmin: [ 1.]\n",
      "press to continue...\n",
      "x.shape:  [[ 0.98066612]]\n",
      "funcs: (1, 500)\n",
      "funcs: (1, 500, 1)\n",
      "funcs: (1, 500, 1)\n",
      "funcs: (1, 500)\n",
      "pmin: [ 1.]\n",
      "press to continue...\n",
      "x.shape:  [[ 0.98066612]]\n",
      "funcs: (1, 500)\n",
      "funcs: (1, 500, 1)\n",
      "funcs: (1, 500, 1)\n",
      "funcs: (1, 500)\n",
      "pmin: [ 1.]\n",
      "press to continue...\n",
      "x.shape:  [[ 0.98066612]]\n",
      "funcs: (1, 500)\n",
      "funcs: (1, 500, 1)\n",
      "funcs: (1, 500, 1)\n",
      "funcs: (1, 500)\n",
      "pmin: [ 1.]\n",
      "press to continue...\n",
      "x.shape:  [[ 0.98066612]]\n",
      "funcs: (1, 500)\n",
      "funcs: (1, 500, 1)\n",
      "funcs: (1, 500, 1)\n",
      "funcs: (1, 500)\n",
      "pmin: [ 1.]\n",
      "press to continue...\n",
      "x.shape:  [[ 0.98066612]]\n",
      "funcs: (1, 500)\n",
      "funcs: (1, 500, 1)\n",
      "funcs: (1, 500, 1)\n",
      "funcs: (1, 500)\n",
      "pmin: [ 1.]\n",
      "press to continue...\n",
      "x.shape:  [[ 0.98066612]]\n",
      "funcs: (1, 500)\n",
      "funcs: (1, 500, 1)\n",
      "funcs: (1, 500, 1)\n",
      "funcs: (1, 500)\n",
      "pmin: [ 1.]\n",
      "press to continue...\n",
      "x.shape:  [[ 0.98066612]]\n",
      "funcs: (1, 500)\n",
      "funcs: (1, 500, 1)\n",
      "funcs: (1, 500, 1)\n",
      "funcs: (1, 500)\n",
      "pmin: [ 1.]\n",
      "press to continue...\n",
      "x.shape:  [[ 0.98066612]]\n",
      "funcs: (1, 500)\n",
      "funcs: (1, 500, 1)\n",
      "funcs: (1, 500, 1)\n",
      "funcs: (1, 500)\n",
      "pmin: [ 1.]\n",
      "press to continue...\n",
      "x.shape:  [[ 0.98066612]]\n",
      "funcs: (1, 500)\n",
      "funcs: (1, 500, 1)\n",
      "funcs: (1, 500, 1)\n",
      "funcs: (1, 500)\n",
      "pmin: [ 1.]\n",
      "press to continue...\n",
      "x.shape:  [[ 0.98066612]]\n",
      "funcs: (1, 500)\n",
      "funcs: (1, 500, 1)\n",
      "funcs: (1, 500, 1)\n",
      "funcs: (1, 500)\n",
      "pmin: [ 1.]\n",
      "press to continue...\n",
      "x.shape:  [[ 0.98066612]]\n",
      "funcs: (1, 500)\n",
      "funcs: (1, 500, 1)\n",
      "funcs: (1, 500, 1)\n",
      "funcs: (1, 500)\n",
      "pmin: [ 1.]\n",
      "press to continue...\n",
      "x.shape:  [[ 0.98066612]]\n",
      "funcs: (1, 500)\n",
      "funcs: (1, 500, 1)\n",
      "funcs: (1, 500, 1)\n",
      "funcs: (1, 500)\n",
      "pmin: [ 1.]\n",
      "press to continue...\n",
      "stoppping!!!\n",
      "\n"
     ]
    }
   ],
   "source": [
    "# Creates GPyOpt object with the model and anquisition fucntion\n",
    "seed(123)\n",
    "myBopt_GES = GPyOpt.methods.BayesianOptimization(f=f_true.f,            # function to optimize       \n",
    "                                             domain=bounds,        # box-constrains of the problem\n",
    "                                             acquisition_type='GES') # Selects the Expected improvement"
   ]
  },
  {
   "cell_type": "code",
   "execution_count": 24,
   "metadata": {
    "collapsed": true
   },
   "outputs": [],
   "source": [
    "funcs = np.random.rand(1000,500)"
   ]
  },
  {
   "cell_type": "code",
   "execution_count": 25,
   "metadata": {
    "collapsed": false
   },
   "outputs": [],
   "source": [
    "maxs = np.argmax(funcs, axis=0)"
   ]
  },
  {
   "cell_type": "code",
   "execution_count": 26,
   "metadata": {
    "collapsed": false
   },
   "outputs": [
    {
     "data": {
      "text/plain": [
       "array([131, 830, 809, 935, 147, 978, 819, 328, 536, 658, 770, 870, 620,\n",
       "       795, 663, 744,  46, 115, 168,  54, 904, 594, 689, 179, 579,  49,\n",
       "       557, 793, 868,  85, 147, 598, 772, 882, 741,  79, 798, 285, 204,\n",
       "        17, 888, 154, 930, 239, 551, 530, 899, 486, 722, 451,  33, 500,\n",
       "       392, 134, 988, 576, 505, 902, 176, 413, 205, 683, 503, 630, 269,\n",
       "        78, 182, 112, 787, 556, 736, 452, 909, 834, 104, 224, 146, 386,\n",
       "       552, 137, 160, 435, 770, 180, 640, 297, 780, 359, 862, 576, 670,\n",
       "       963, 898, 379, 104, 174, 416, 302, 437, 350, 364, 256, 646, 623,\n",
       "       638, 519, 437, 381, 550, 435, 570, 627, 210, 489,  96, 611, 484,\n",
       "       235, 863, 742, 356, 792, 390, 193, 114,  14, 401, 890, 356, 580,\n",
       "       215, 892, 129, 252, 522, 797, 454, 539, 323, 887, 208, 132, 502,\n",
       "       481, 431, 963, 485, 191, 877, 481, 636, 492, 632, 469, 108, 142,\n",
       "       924, 266,  65,  87, 383, 119, 905, 164, 586, 853, 902, 752, 719,\n",
       "       933, 339, 367, 375, 876, 449, 489, 765, 914, 398, 580, 785, 210,\n",
       "       112, 768, 135, 747, 796, 388, 647, 739, 648, 138, 323, 408,  40,\n",
       "       882, 678, 584, 127, 726, 543, 408, 294, 581,  23, 719, 994, 564,\n",
       "       636, 977, 303, 188, 853, 436, 101, 894, 844, 930, 897, 442, 568,\n",
       "       740, 112, 596, 918, 389, 609, 878, 723, 745, 425, 322,  78,  46,\n",
       "       425, 611,  42, 275, 637, 483, 741, 777, 898, 151, 407, 630, 566,\n",
       "        20,  16, 178, 301, 704,  36, 913,  95, 494, 731, 171, 652, 899,\n",
       "       961, 476, 637, 241,   2, 827, 538, 408, 767, 789, 212,   4, 430,\n",
       "       612, 182, 719,  99, 781, 835, 810, 751, 481, 259, 751, 922, 631,\n",
       "       979,  49, 161, 715, 416, 751, 432, 970, 457, 399, 433, 409, 736,\n",
       "       634, 464, 437, 341, 751, 869, 290, 287, 706, 874, 349, 196, 858,\n",
       "       256, 689, 441, 539,  53, 425, 383, 715, 970, 269, 392, 554,  30,\n",
       "       307, 970, 533, 309, 887, 815, 767, 345,  77, 522,  90, 630, 221,\n",
       "       220, 384, 352, 186, 207, 581, 358, 299, 893, 845, 492, 669, 446,\n",
       "       411, 580,   9, 952, 269, 296, 465, 694, 534, 259, 782, 574, 591,\n",
       "        36,  88, 950, 107, 388,   7, 356, 538, 480, 912, 444, 894, 392,\n",
       "       284, 433, 276, 518, 218, 954, 630,  28, 321,  87, 779, 851, 562,\n",
       "       716,  87, 857, 968,  34, 852, 283, 638, 367, 354,  23, 838,  72,\n",
       "       727, 466, 447, 650, 940, 559, 916, 966, 920, 559, 969, 914, 818,\n",
       "       172, 536, 175, 304, 782,  27, 228,   4, 517, 375, 699, 268, 939,\n",
       "       255, 922, 294, 426, 636, 938, 566, 625, 550, 220, 720, 277, 638,\n",
       "       532, 908, 345, 690, 841, 449, 488, 987, 692,  90, 984, 578, 368,\n",
       "       162, 280, 508, 468, 211, 879, 537, 442, 982,  32, 491, 985, 749,\n",
       "       516, 647, 395, 288, 674,  33, 921, 333, 904, 299, 457, 123, 345,\n",
       "        91,  76, 106, 270, 709, 366, 956, 680, 841, 182, 490,  48, 322,\n",
       "       855, 904,  88, 724,  63, 507])"
      ]
     },
     "execution_count": 26,
     "metadata": {},
     "output_type": "execute_result"
    }
   ],
   "source": [
    "maxs"
   ]
  },
  {
   "cell_type": "code",
   "execution_count": 14,
   "metadata": {
    "collapsed": false
   },
   "outputs": [
    {
     "data": {
      "text/plain": [
       "(500,)"
      ]
     },
     "execution_count": 14,
     "metadata": {},
     "output_type": "execute_result"
    }
   ],
   "source": [
    "maxs.shape"
   ]
  },
  {
   "cell_type": "code",
   "execution_count": 13,
   "metadata": {
    "collapsed": false
   },
   "outputs": [],
   "source": [
    "funcs = np.array([[1, 3 ],[2,5] ,[4 ,6],[2, 3] ,[7,9] ,[14 ,16]])"
   ]
  },
  {
   "cell_type": "code",
   "execution_count": 18,
   "metadata": {
    "collapsed": false
   },
   "outputs": [],
   "source": [
    "c = np.bincount(maxs)"
   ]
  },
  {
   "cell_type": "code",
   "execution_count": 19,
   "metadata": {
    "collapsed": false
   },
   "outputs": [
    {
     "data": {
      "text/plain": [
       "array([0, 0, 0, 0, 0, 2])"
      ]
     },
     "execution_count": 19,
     "metadata": {},
     "output_type": "execute_result"
    }
   ],
   "source": [
    "c"
   ]
  },
  {
   "cell_type": "code",
   "execution_count": 13,
   "metadata": {
    "collapsed": false
   },
   "outputs": [
    {
     "data": {
      "text/plain": [
       "(999,)"
      ]
     },
     "execution_count": 13,
     "metadata": {},
     "output_type": "execute_result"
    }
   ],
   "source": [
    "c.shape"
   ]
  },
  {
   "cell_type": "code",
   "execution_count": 16,
   "metadata": {
    "collapsed": true
   },
   "outputs": [],
   "source": [
    "max_count = np.zeros((1000,))\n",
    "max_count[:len(c)] += c"
   ]
  },
  {
   "cell_type": "code",
   "execution_count": 3,
   "metadata": {
    "collapsed": false
   },
   "outputs": [
    {
     "name": "stdout",
     "output_type": "stream",
     "text": [
      "stoppping!!!\n",
      "\n"
     ]
    }
   ],
   "source": [
    "# Creates GPyOpt object with the model and anquisition fucntion\n",
    "seed(123)\n",
    "myBopt = GPyOpt.methods.BayesianOptimization(f=f_true.f,            # function to optimize       \n",
    "                                             domain=bounds,        # box-constrains of the problem\n",
    "                                             acquisition_type='EI',\n",
    "                                             exact_feval = True) # Selects the Expected improvement"
   ]
  },
  {
   "cell_type": "code",
   "execution_count": null,
   "metadata": {
    "collapsed": false
   },
   "outputs": [
    {
     "name": "stdout",
     "output_type": "stream",
     "text": [
      "x.shape:  [[ 0.42306415]\n",
      " [ 0.98066612]\n",
      " [ 0.68476126]\n",
      " [ 0.48088381]\n",
      " [ 0.39207831]\n",
      " [ 0.3431437 ]\n",
      " [ 0.7289768 ]\n",
      " [ 0.43852839]\n",
      " [ 0.05967193]\n",
      " [ 0.39800445]]\n",
      "funcs: (10, 500)\n",
      "funcs: (10, 500, 1)\n",
      "funcs: (10, 500, 1)\n",
      "funcs: (10, 500)\n",
      "pmin: [  1.00000000e-70   8.40000000e-02   1.00000000e-70   1.00000000e-70\n",
      "   1.00000000e-70   1.00000000e-70   9.16000000e-01   1.00000000e-70\n",
      "   1.00000000e-70   1.00000000e-70]\n",
      "press to continue...\n",
      "x.shape:  [[ 0.98066612]]\n",
      "funcs: (1, 500)\n",
      "funcs: (1, 500, 1)\n",
      "funcs: (1, 500, 1)\n",
      "funcs: (1, 500)\n",
      "pmin: [ 1.]\n",
      "press to continue...\n",
      "x.shape:  [[ 0.98066612]]\n",
      "funcs: (1, 500)\n",
      "funcs: (1, 500, 1)\n",
      "funcs: (1, 500, 1)\n",
      "funcs: (1, 500)\n",
      "pmin: [ 1.]\n",
      "press to continue...\n",
      "x.shape:  [[ 0.05479024]]\n",
      "funcs: (1, 500)\n",
      "funcs: (1, 500, 1)\n",
      "funcs: (1, 500, 1)\n",
      "funcs: (1, 500)\n",
      "pmin: [ 1.]\n",
      "press to continue...\n",
      "x.shape:  [[ 0.05479024]]\n",
      "funcs: (1, 500)\n",
      "funcs: (1, 500, 1)\n",
      "funcs: (1, 500, 1)\n",
      "funcs: (1, 500)\n",
      "pmin: [ 1.]\n",
      "press to continue...\n",
      "x.shape:  [[ 0.72426395]]\n",
      "funcs: (1, 500)\n",
      "funcs: (1, 500, 1)\n",
      "funcs: (1, 500, 1)\n",
      "funcs: (1, 500)\n",
      "pmin: [ 1.]\n",
      "press to continue...\n",
      "x.shape:  [[ 0.72426395]]\n",
      "funcs: (1, 500)\n",
      "funcs: (1, 500, 1)\n",
      "funcs: (1, 500, 1)\n",
      "funcs: (1, 500)\n",
      "pmin: [ 1.]\n",
      "press to continue...\n",
      "x.shape:  [[ 0.83294185]]\n",
      "funcs: (1, 500)\n",
      "funcs: (1, 500, 1)\n",
      "funcs: (1, 500, 1)\n",
      "funcs: (1, 500)\n",
      "pmin: [ 1.]\n",
      "press to continue...\n",
      "x.shape:  [[ 0.83294185]]\n",
      "funcs: (1, 500)\n",
      "funcs: (1, 500, 1)\n",
      "funcs: (1, 500, 1)\n",
      "funcs: (1, 500)\n",
      "pmin: [ 1.]\n",
      "press to continue...\n",
      "x.shape:  [[ 0.9467936]]\n",
      "funcs: (1, 500)\n",
      "funcs: (1, 500, 1)\n",
      "funcs: (1, 500, 1)\n",
      "funcs: (1, 500)\n",
      "pmin: [ 1.]\n",
      "press to continue...\n",
      "x.shape:  [[ 0.9467936]]\n",
      "funcs: (1, 500)\n",
      "funcs: (1, 500, 1)\n",
      "funcs: (1, 500, 1)\n",
      "funcs: (1, 500)\n",
      "pmin: [ 1.]\n",
      "press to continue...\n",
      "x.shape:  [[ 0.97401894]]\n",
      "funcs: (1, 500)\n",
      "funcs: (1, 500, 1)\n",
      "funcs: (1, 500, 1)\n",
      "funcs: (1, 500)\n",
      "pmin: [ 1.]\n",
      "press to continue...\n",
      "x.shape:  [[ 0.97401894]]\n",
      "funcs: (1, 500)\n",
      "funcs: (1, 500, 1)\n",
      "funcs: (1, 500, 1)\n",
      "funcs: (1, 500)\n",
      "pmin: [ 1.]\n",
      "press to continue...\n",
      "x.shape:  [[ 0.97928405]]\n",
      "funcs: (1, 500)\n",
      "funcs: (1, 500, 1)\n",
      "funcs: (1, 500, 1)\n",
      "funcs: (1, 500)\n",
      "pmin: [ 1.]\n",
      "press to continue...\n",
      "x.shape:  [[ 0.97928405]]\n",
      "funcs: (1, 500)\n",
      "funcs: (1, 500, 1)\n",
      "funcs: (1, 500, 1)\n",
      "funcs: (1, 500)\n",
      "pmin: [ 1.]\n",
      "press to continue...\n",
      "x.shape:  [[ 0.98037536]]\n",
      "funcs: (1, 500)\n",
      "funcs: (1, 500, 1)\n",
      "funcs: (1, 500, 1)\n",
      "funcs: (1, 500)\n",
      "pmin: [ 1.]\n",
      "press to continue...\n",
      "x.shape:  [[ 0.98037536]]\n",
      "funcs: (1, 500)\n",
      "funcs: (1, 500, 1)\n",
      "funcs: (1, 500, 1)\n",
      "funcs: (1, 500)\n",
      "pmin: [ 1.]\n",
      "press to continue...\n",
      "x.shape:  [[ 0.9806048]]\n",
      "funcs: (1, 500)\n",
      "funcs: (1, 500, 1)\n",
      "funcs: (1, 500, 1)\n",
      "funcs: (1, 500)\n",
      "pmin: [ 1.]\n",
      "press to continue...\n",
      "x.shape:  [[ 0.9806048]]\n",
      "funcs: (1, 500)\n",
      "funcs: (1, 500, 1)\n",
      "funcs: (1, 500, 1)\n",
      "funcs: (1, 500)\n",
      "pmin: [ 1.]\n",
      "press to continue...\n",
      "x.shape:  [[ 0.98065318]]\n",
      "funcs: (1, 500)\n",
      "funcs: (1, 500, 1)\n",
      "funcs: (1, 500, 1)\n",
      "funcs: (1, 500)\n",
      "pmin: [ 1.]\n",
      "press to continue...\n",
      "x.shape:  [[ 0.98065318]]\n",
      "funcs: (1, 500)\n",
      "funcs: (1, 500, 1)\n",
      "funcs: (1, 500, 1)\n",
      "funcs: (1, 500)\n",
      "pmin: [ 1.]\n",
      "press to continue...\n",
      "x.shape:  [[ 0.98066339]]\n",
      "funcs: (1, 500)\n",
      "funcs: (1, 500, 1)\n",
      "funcs: (1, 500, 1)\n",
      "funcs: (1, 500)\n",
      "pmin: [ 1.]\n",
      "press to continue...\n",
      "x.shape:  [[ 0.98066339]]\n",
      "funcs: (1, 500)\n",
      "funcs: (1, 500, 1)\n",
      "funcs: (1, 500, 1)\n",
      "funcs: (1, 500)\n",
      "pmin: [ 1.]\n",
      "press to continue...\n",
      "x.shape:  [[ 0.98066555]]\n",
      "funcs: (1, 500)\n",
      "funcs: (1, 500, 1)\n",
      "funcs: (1, 500, 1)\n",
      "funcs: (1, 500)\n",
      "pmin: [ 1.]\n",
      "press to continue...\n",
      "x.shape:  [[ 0.98066555]]\n",
      "funcs: (1, 500)\n",
      "funcs: (1, 500, 1)\n",
      "funcs: (1, 500, 1)\n",
      "funcs: (1, 500)\n",
      "pmin: [ 1.]\n",
      "press to continue...\n",
      "x.shape:  [[ 0.980666]]\n",
      "funcs: (1, 500)\n",
      "funcs: (1, 500, 1)\n",
      "funcs: (1, 500, 1)\n",
      "funcs: (1, 500)\n",
      "pmin: [ 1.]\n",
      "press to continue...\n",
      "x.shape:  [[ 0.980666]]\n",
      "funcs: (1, 500)\n",
      "funcs: (1, 500, 1)\n",
      "funcs: (1, 500, 1)\n",
      "funcs: (1, 500)\n",
      "pmin: [ 1.]\n",
      "press to continue...\n",
      "x.shape:  [[ 0.9806661]]\n",
      "funcs: (1, 500)\n",
      "funcs: (1, 500, 1)\n",
      "funcs: (1, 500, 1)\n",
      "funcs: (1, 500)\n",
      "pmin: [ 1.]\n",
      "press to continue...\n",
      "x.shape:  [[ 0.9806661]]\n",
      "funcs: (1, 500)\n",
      "funcs: (1, 500, 1)\n",
      "funcs: (1, 500, 1)\n",
      "funcs: (1, 500)\n",
      "pmin: [ 1.]\n",
      "press to continue...\n",
      "x.shape:  [[ 0.98066612]]\n",
      "funcs: (1, 500)\n",
      "funcs: (1, 500, 1)\n",
      "funcs: (1, 500, 1)\n",
      "funcs: (1, 500)\n",
      "pmin: [ 1.]\n",
      "press to continue...\n",
      "x.shape:  [[ 0.98066612]]\n",
      "funcs: (1, 500)\n",
      "funcs: (1, 500, 1)\n",
      "funcs: (1, 500, 1)\n",
      "funcs: (1, 500)\n",
      "pmin: [ 1.]\n",
      "press to continue...\n",
      "x.shape:  [[ 0.98066612]]\n",
      "funcs: (1, 500)\n",
      "funcs: (1, 500, 1)\n",
      "funcs: (1, 500, 1)\n",
      "funcs: (1, 500)\n",
      "pmin: [ 1.]\n",
      "press to continue...\n",
      "x.shape:  [[ 0.98066612]]\n",
      "funcs: (1, 500)\n",
      "funcs: (1, 500, 1)\n",
      "funcs: (1, 500, 1)\n",
      "funcs: (1, 500)\n",
      "pmin: [ 1.]\n",
      "press to continue...\n",
      "x.shape:  [[ 0.98066612]]\n",
      "funcs: (1, 500)\n",
      "funcs: (1, 500, 1)\n",
      "funcs: (1, 500, 1)\n",
      "funcs: (1, 500)\n",
      "pmin: [ 1.]\n",
      "press to continue...\n",
      "x.shape:  [[ 0.98066612]]\n",
      "funcs: (1, 500)\n",
      "funcs: (1, 500, 1)\n",
      "funcs: (1, 500, 1)\n",
      "funcs: (1, 500)\n",
      "pmin: [ 1.]\n",
      "press to continue...\n",
      "x.shape:  [[ 0.98066612]]\n",
      "funcs: (1, 500)\n",
      "funcs: (1, 500, 1)\n",
      "funcs: (1, 500, 1)\n",
      "funcs: (1, 500)\n",
      "pmin: [ 1.]\n",
      "press to continue...\n",
      "x.shape:  [[ 0.98066612]]\n",
      "funcs: (1, 500)\n",
      "funcs: (1, 500, 1)\n",
      "funcs: (1, 500, 1)\n",
      "funcs: (1, 500)\n",
      "pmin: [ 1.]\n",
      "press to continue...\n",
      "x.shape:  [[ 0.98066612]]\n",
      "funcs: (1, 500)\n",
      "funcs: (1, 500, 1)\n",
      "funcs: (1, 500, 1)\n",
      "funcs: (1, 500)\n",
      "pmin: [ 1.]\n",
      "press to continue...\n",
      "x.shape:  [[ 0.98066612]]\n",
      "funcs: (1, 500)\n",
      "funcs: (1, 500, 1)\n",
      "funcs: (1, 500, 1)\n",
      "funcs: (1, 500)\n",
      "pmin: [ 1.]\n",
      "press to continue...\n",
      "x.shape:  [[ 0.98066612]]\n",
      "funcs: (1, 500)\n",
      "funcs: (1, 500, 1)\n",
      "funcs: (1, 500, 1)\n",
      "funcs: (1, 500)\n",
      "pmin: [ 1.]\n",
      "press to continue...\n",
      "x.shape:  [[ 0.98066612]]\n",
      "funcs: (1, 500)\n",
      "funcs: (1, 500, 1)\n",
      "funcs: (1, 500, 1)\n",
      "funcs: (1, 500)\n",
      "pmin: [ 1.]\n",
      "press to continue...\n",
      "x.shape:  [[ 0.98066612]]\n",
      "funcs: (1, 500)\n",
      "funcs: (1, 500, 1)\n",
      "funcs: (1, 500, 1)\n",
      "funcs: (1, 500)\n",
      "pmin: [ 1.]\n",
      "press to continue...\n",
      "x.shape:  [[ 0.98066612]]\n",
      "funcs: (1, 500)\n",
      "funcs: (1, 500, 1)\n",
      "funcs: (1, 500, 1)\n",
      "funcs: (1, 500)\n",
      "pmin: [ 1.]\n",
      "press to continue...\n",
      "x.shape:  [[ 0.42306415]\n",
      " [ 0.98066612]\n",
      " [ 0.68476126]\n",
      " [ 0.48088381]\n",
      " [ 0.39207831]\n",
      " [ 0.3431437 ]\n",
      " [ 0.7289768 ]\n",
      " [ 0.43852839]\n",
      " [ 0.05967193]\n",
      " [ 0.39800445]]\n",
      "funcs: (10, 500)\n",
      "funcs: (10, 500, 1)\n",
      "funcs: (10, 500, 1)\n",
      "funcs: (10, 500)\n",
      "pmin: [  1.00000000e-70   1.00000000e-70   1.80000000e-02   1.00000000e-70\n",
      "   2.00000000e-03   1.00000000e-70   9.20000000e-01   4.00000000e-03\n",
      "   5.00000000e-02   6.00000000e-03]\n",
      "press to continue...\n",
      "x.shape:  [[ 0.05967193]]\n",
      "funcs: (1, 500)\n",
      "funcs: (1, 500, 1)\n",
      "funcs: (1, 500, 1)\n",
      "funcs: (1, 500)\n",
      "pmin: [ 1.]\n"
     ]
    }
   ],
   "source": [
    "# Run the optimization GES\n",
    "max_iter = 15     # evaluation budget\n",
    "max_time = 60     # time budget \n",
    "eps      = 10e-9  # Minimum allows distance between the las two observations\n",
    "\n",
    "myBopt_GES.run_optimization(max_iter, max_time, eps=0.01)  "
   ]
  },
  {
   "cell_type": "code",
   "execution_count": 46,
   "metadata": {
    "collapsed": false
   },
   "outputs": [
    {
     "name": "stdout",
     "output_type": "stream",
     "text": [
      "stoppping!!!\n",
      "\n"
     ]
    }
   ],
   "source": [
    "# Run the optimization EI\n",
    "max_iter = 15     # evaluation budget\n",
    "max_time = 60     # time budget \n",
    "eps      = 10e-9  # Minimum allows distance between the las two observations\n",
    "myBopt_GES.run_optimization(max_iter)\n",
    "\n",
    "# for i in xrange(1,max_iter):\n",
    "#     myBopt_GES.run_optimization(max_iter=1)\n",
    "#     myBopt_GES.plot_acquisition()\n",
    "#     raw_input(\"press to continue...\")"
   ]
  },
  {
   "cell_type": "code",
   "execution_count": 8,
   "metadata": {
    "collapsed": false
   },
   "outputs": [
    {
     "data": {
      "text/plain": [
       "array([[ 0.69639954],\n",
       "       [ 0.28611072],\n",
       "       [ 0.22682877],\n",
       "       [ 0.55125964],\n",
       "       [ 0.71939702],\n",
       "       [ 0.71869396],\n",
       "       [ 0.83738236],\n",
       "       [ 0.73792161],\n",
       "       [ 0.73792161],\n",
       "       [ 0.73792161],\n",
       "       [ 0.73792161],\n",
       "       [ 0.73792161],\n",
       "       [ 0.73792161],\n",
       "       [ 0.73792161],\n",
       "       [ 0.73792161],\n",
       "       [ 0.73792161],\n",
       "       [ 0.73792161],\n",
       "       [ 0.73792161],\n",
       "       [ 0.73792161],\n",
       "       [ 0.73792161],\n",
       "       [ 0.73792161],\n",
       "       [ 0.73792161],\n",
       "       [ 0.73792161],\n",
       "       [ 0.73792161],\n",
       "       [ 0.73792161],\n",
       "       [ 0.73792161],\n",
       "       [ 0.73792161],\n",
       "       [ 0.73792161],\n",
       "       [ 0.73792161],\n",
       "       [ 0.73792161],\n",
       "       [ 0.73792161],\n",
       "       [ 0.73792161],\n",
       "       [ 0.73792161],\n",
       "       [ 0.73792161],\n",
       "       [ 0.73792161]])"
      ]
     },
     "execution_count": 8,
     "metadata": {},
     "output_type": "execute_result"
    }
   ],
   "source": [
    "myBopt_GES.X"
   ]
  },
  {
   "cell_type": "code",
   "execution_count": 33,
   "metadata": {
    "collapsed": false
   },
   "outputs": [
    {
     "data": {
      "text/plain": [
       "5.458997011184692"
      ]
     },
     "execution_count": 33,
     "metadata": {},
     "output_type": "execute_result"
    }
   ],
   "source": [
    "myBopt.cum_time"
   ]
  },
  {
   "cell_type": "code",
   "execution_count": 7,
   "metadata": {
    "collapsed": true
   },
   "outputs": [],
   "source": [
    "mean = np.zeros(1000)  # a zero array shaped (1000,)\n",
    "covariance = np.random.rand(1000, 1000) \n",
    "# a matrix of random values shaped (1000,1000)\n",
    "draw = np.random.multivariate_normal(mean, covariance)"
   ]
  },
  {
   "cell_type": "code",
   "execution_count": 9,
   "metadata": {
    "collapsed": false
   },
   "outputs": [
    {
     "data": {
      "image/png": "[encoded data removed]",
      "text/plain": [
       "<matplotlib.figure.Figure at 0x7f98dbdbc290>"
      ]
     },
     "metadata": {},
     "output_type": "display_data"
    }
   ],
   "source": [
    "# GES\n",
    "myBopt_GES.plot_acquisition()"
   ]
  },
  {
   "cell_type": "code",
   "execution_count": 22,
   "metadata": {
    "collapsed": false
   },
   "outputs": [
    {
     "data": {
      "image/png": "[encoded data removed]",
      "text/plain": [
       "<matplotlib.figure.Figure at 0x7f84a891d710>"
      ]
     },
     "metadata": {},
     "output_type": "display_data"
    }
   ],
   "source": [
    "f_true.plot()"
   ]
  },
  {
   "cell_type": "code",
   "execution_count": 34,
   "metadata": {
    "collapsed": false
   },
   "outputs": [
    {
     "data": {
      "image/png": "[encoded data removed]",
      "text/plain": [
       "<matplotlib.figure.Figure at 0x7f84a87f1950>"
      ]
     },
     "metadata": {},
     "output_type": "display_data"
    }
   ],
   "source": [
    "# EI\n",
    "myBopt.plot_acquisition()"
   ]
  },
  {
   "cell_type": "code",
   "execution_count": 8,
   "metadata": {
    "collapsed": true
   },
   "outputs": [],
   "source": [
    "from GPy.kern.src import stationary_cython"
   ]
  },
  {
   "cell_type": "code",
   "execution_count": 9,
   "metadata": {
    "collapsed": false
   },
   "outputs": [
    {
     "name": "stdout",
     "output_type": "stream",
     "text": [
      "1.5.3\n"
     ]
    }
   ],
   "source": [
    "print GPy.__version__"
   ]
  },
  {
   "cell_type": "code",
   "execution_count": 35,
   "metadata": {
    "collapsed": false
   },
   "outputs": [
    {
     "data": {
      "image/png": "[encoded data removed]",
      "text/plain": [
       "<matplotlib.figure.Figure at 0x7f84a88eb590>"
      ]
     },
     "metadata": {},
     "output_type": "display_data"
    }
   ],
   "source": [
    "myBopt_GES.plot_convergence()"
   ]
  },
  {
   "cell_type": "code",
   "execution_count": 36,
   "metadata": {
    "collapsed": false
   },
   "outputs": [
    {
     "data": {
      "image/png": "[encoded data removed]",
      "text/plain": [
       "<matplotlib.figure.Figure at 0x7f84a893ad90>"
      ]
     },
     "metadata": {},
     "output_type": "display_data"
    }
   ],
   "source": [
    "myBopt.plot_convergence()"
   ]
  }
 ],
 "metadata": {
  "kernelspec": {
   "display_name": "Python 2",
   "language": "python",
   "name": "python2"
  },
  "language_info": {
   "codemirror_mode": {
    "name": "ipython",
    "version": 2
   },
   "file_extension": ".py",
   "mimetype": "text/x-python",
   "name": "python",
   "nbconvert_exporter": "python",
   "pygments_lexer": "ipython2",
   "version": "2.7.6"
  }
 },
 "nbformat": 4,
 "nbformat_minor": 1
}
